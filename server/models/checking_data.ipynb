{
 "cells": [
  {
   "cell_type": "markdown",
   "metadata": {},
   "source": [
    "# <span style=\"color:#f6f794\"> Importing libraries </span>\n"
   ]
  },
  {
   "cell_type": "code",
   "execution_count": null,
   "metadata": {},
   "outputs": [],
   "source": [
    "import pandas as pd\n",
    "import os\n",
    "import re\n",
    "import seaborn as sns\n",
    "import matplotlib.pyplot as plt\n",
    "from sklearn.ensemble import RandomForestClassifier\n",
    "from sklearn.preprocessing import LabelEncoder\n",
    "from sklearn.model_selection import train_test_split\n",
    "from category_encoders import TargetEncoder"
   ]
  },
  {
   "cell_type": "markdown",
   "metadata": {},
   "source": [
    "# <span style=\"color:#f6f794\"> Setting paths and opening file </span>"
   ]
  },
  {
   "cell_type": "code",
   "execution_count": 2,
   "metadata": {},
   "outputs": [],
   "source": [
    "current_dir = os.getcwd()\n",
    "parent_dir = os.path.dirname(current_dir)\n",
    "data_dir = os.path.join(parent_dir, \"data\")\n",
    "file_path = os.path.join(data_dir, \"\")\n",
    "trying_model = os.path.join(data_dir, \"for_trying_model.csv\")\n",
    "raw_data_csv_path = os.path.join(data_dir, \"raw_data.csv\")\n",
    "\n",
    "df_students = pd.read_csv(raw_data_csv_path)"
   ]
  },
  {
   "cell_type": "markdown",
   "metadata": {},
   "source": [
    "# <span style=\"color:#f6f794\"> Start checking the dataset </span>"
   ]
  },
  {
   "cell_type": "code",
   "execution_count": 3,
   "metadata": {},
   "outputs": [
    {
     "data": {
      "text/plain": [
       "Index(['Marital status', 'Application mode', 'Application order', 'Course',\n",
       "       'Daytime/evening attendance', 'Previous qualification', 'Nacionality',\n",
       "       'Mother's qualification', 'Father's qualification',\n",
       "       'Mother's occupation', 'Father's occupation', 'Displaced',\n",
       "       'Educational special needs', 'Debtor', 'Tuition fees up to date',\n",
       "       'Gender', 'Scholarship holder', 'Age at enrollment', 'International',\n",
       "       'Curricular units 1st sem (credited)',\n",
       "       'Curricular units 1st sem (enrolled)',\n",
       "       'Curricular units 1st sem (evaluations)',\n",
       "       'Curricular units 1st sem (approved)',\n",
       "       'Curricular units 1st sem (grade)',\n",
       "       'Curricular units 1st sem (without evaluations)',\n",
       "       'Curricular units 2nd sem (credited)',\n",
       "       'Curricular units 2nd sem (enrolled)',\n",
       "       'Curricular units 2nd sem (evaluations)',\n",
       "       'Curricular units 2nd sem (approved)',\n",
       "       'Curricular units 2nd sem (grade)',\n",
       "       'Curricular units 2nd sem (without evaluations)', 'Unemployment rate',\n",
       "       'Inflation rate', 'GDP', 'Target'],\n",
       "      dtype='object')"
      ]
     },
     "execution_count": 3,
     "metadata": {},
     "output_type": "execute_result"
    }
   ],
   "source": [
    "df_students.columns"
   ]
  },
  {
   "cell_type": "markdown",
   "metadata": {},
   "source": [
    "### <span style=\"color:#f6f794\"> Changing column's names </span>"
   ]
  },
  {
   "cell_type": "code",
   "execution_count": 4,
   "metadata": {},
   "outputs": [],
   "source": [
    "# Modify columns with 'CamelCase' to 'snake_case'\n",
    "df_students.columns = [re.sub(r'(?<!^)(?=[A-Z][a-z])', '_', col).lower() for col in df_students.columns]\n",
    "# Replace spaces with underscores\n",
    "df_students.columns = df_students.columns.str.replace(' ', '_')\n",
    "# Changing nacionality for nationality\n",
    "df_students.rename(columns={'nacionality': 'nationality'}, inplace=True)\n",
    "df_students.rename(columns={'daytime/evening_attendance': 'attendance'}, inplace=True)"
   ]
  },
  {
   "cell_type": "markdown",
   "metadata": {},
   "source": [
    "### <span style=\"color:#f6f794\"> Checking dataset </span>"
   ]
  },
  {
   "cell_type": "code",
   "execution_count": 5,
   "metadata": {},
   "outputs": [
    {
     "data": {
      "application/vnd.microsoft.datawrangler.viewer.v0+json": {
       "columns": [
        {
         "name": "index",
         "rawType": "object",
         "type": "string"
        },
        {
         "name": "marital_status",
         "rawType": "float64",
         "type": "float"
        },
        {
         "name": "application_mode",
         "rawType": "float64",
         "type": "float"
        },
        {
         "name": "application_order",
         "rawType": "float64",
         "type": "float"
        },
        {
         "name": "course",
         "rawType": "float64",
         "type": "float"
        },
        {
         "name": "attendance",
         "rawType": "float64",
         "type": "float"
        },
        {
         "name": "previous_qualification",
         "rawType": "float64",
         "type": "float"
        },
        {
         "name": "nationality",
         "rawType": "float64",
         "type": "float"
        },
        {
         "name": "mother's_qualification",
         "rawType": "float64",
         "type": "float"
        },
        {
         "name": "father's_qualification",
         "rawType": "float64",
         "type": "float"
        },
        {
         "name": "mother's_occupation",
         "rawType": "float64",
         "type": "float"
        },
        {
         "name": "father's_occupation",
         "rawType": "float64",
         "type": "float"
        },
        {
         "name": "displaced",
         "rawType": "float64",
         "type": "float"
        },
        {
         "name": "educational_special_needs",
         "rawType": "float64",
         "type": "float"
        },
        {
         "name": "debtor",
         "rawType": "float64",
         "type": "float"
        },
        {
         "name": "tuition_fees_up_to_date",
         "rawType": "float64",
         "type": "float"
        },
        {
         "name": "gender",
         "rawType": "float64",
         "type": "float"
        },
        {
         "name": "scholarship_holder",
         "rawType": "float64",
         "type": "float"
        },
        {
         "name": "age_at_enrollment",
         "rawType": "float64",
         "type": "float"
        },
        {
         "name": "international",
         "rawType": "float64",
         "type": "float"
        },
        {
         "name": "curricular_units_1st_sem_(credited)",
         "rawType": "float64",
         "type": "float"
        },
        {
         "name": "curricular_units_1st_sem_(enrolled)",
         "rawType": "float64",
         "type": "float"
        },
        {
         "name": "curricular_units_1st_sem_(evaluations)",
         "rawType": "float64",
         "type": "float"
        },
        {
         "name": "curricular_units_1st_sem_(approved)",
         "rawType": "float64",
         "type": "float"
        },
        {
         "name": "curricular_units_1st_sem_(grade)",
         "rawType": "float64",
         "type": "float"
        },
        {
         "name": "curricular_units_1st_sem_(without_evaluations)",
         "rawType": "float64",
         "type": "float"
        },
        {
         "name": "curricular_units_2nd_sem_(credited)",
         "rawType": "float64",
         "type": "float"
        },
        {
         "name": "curricular_units_2nd_sem_(enrolled)",
         "rawType": "float64",
         "type": "float"
        },
        {
         "name": "curricular_units_2nd_sem_(evaluations)",
         "rawType": "float64",
         "type": "float"
        },
        {
         "name": "curricular_units_2nd_sem_(approved)",
         "rawType": "float64",
         "type": "float"
        },
        {
         "name": "curricular_units_2nd_sem_(grade)",
         "rawType": "float64",
         "type": "float"
        },
        {
         "name": "curricular_units_2nd_sem_(without_evaluations)",
         "rawType": "float64",
         "type": "float"
        },
        {
         "name": "unemployment_rate",
         "rawType": "float64",
         "type": "float"
        },
        {
         "name": "inflation_rate",
         "rawType": "float64",
         "type": "float"
        },
        {
         "name": "gdp",
         "rawType": "float64",
         "type": "float"
        }
       ],
       "conversionMethod": "pd.DataFrame",
       "ref": "0d4b769c-fc93-4ad8-862b-2cd6a71c2d64",
       "rows": [
        [
         "count",
         "4424.0",
         "4424.0",
         "4424.0",
         "4424.0",
         "4424.0",
         "4424.0",
         "4424.0",
         "4424.0",
         "4424.0",
         "4424.0",
         "4424.0",
         "4424.0",
         "4424.0",
         "4424.0",
         "4424.0",
         "4424.0",
         "4424.0",
         "4424.0",
         "4424.0",
         "4424.0",
         "4424.0",
         "4424.0",
         "4424.0",
         "4424.0",
         "4424.0",
         "4424.0",
         "4424.0",
         "4424.0",
         "4424.0",
         "4424.0",
         "4424.0",
         "4424.0",
         "4424.0",
         "4424.0"
        ],
        [
         "mean",
         "1.1785714285714286",
         "6.886980108499096",
         "1.7278481012658229",
         "9.899186256781194",
         "0.8908227848101266",
         "2.5314195298372515",
         "1.2545207956600362",
         "12.322106690777577",
         "16.45524412296564",
         "7.317811934900543",
         "7.819168173598554",
         "0.548372513562387",
         "0.011528028933092224",
         "0.11369801084990959",
         "0.8806509945750453",
         "0.35171790235081374",
         "0.24841772151898733",
         "23.265144665461122",
         "0.024864376130198915",
         "0.7099909584086799",
         "6.2705696202531644",
         "8.299050632911392",
         "4.706600361663653",
         "10.640821575154185",
         "0.13765822784810128",
         "0.5418173598553345",
         "6.232142857142857",
         "8.063291139240507",
         "4.435804701627487",
         "10.230205722716985",
         "0.15031645569620253",
         "11.56613924050633",
         "1.228028933092224",
         "0.001968806509945778"
        ],
        [
         "std",
         "0.60574694613071",
         "5.298963721040199",
         "1.313793078362206",
         "4.331791970472733",
         "0.3118966814817871",
         "3.9637069515738004",
         "1.7484471702460693",
         "9.026251036269628",
         "11.044799512789632",
         "3.9978277059689704",
         "4.85669226579284",
         "0.49771085343169424",
         "0.10676005722115345",
         "0.3174800096578208",
         "0.3242353829723811",
         "0.47756043706245527",
         "0.43214415391219485",
         "7.587815615029815",
         "0.15572931888680808",
         "2.3605066191181976",
         "2.480178175307158",
         "4.179105569144036",
         "3.094237979693975",
         "4.843663380663813",
         "0.6908801837297979",
         "1.9185461437101994",
         "2.1959507514632417",
         "3.94795094143741",
         "3.014763902385539",
         "5.210807954644239",
         "0.7537740685130098",
         "2.6638504843026354",
         "1.3827106915401126",
         "2.2699354412537676"
        ],
        [
         "min",
         "1.0",
         "1.0",
         "0.0",
         "1.0",
         "0.0",
         "1.0",
         "1.0",
         "1.0",
         "1.0",
         "1.0",
         "1.0",
         "0.0",
         "0.0",
         "0.0",
         "0.0",
         "0.0",
         "0.0",
         "17.0",
         "0.0",
         "0.0",
         "0.0",
         "0.0",
         "0.0",
         "0.0",
         "0.0",
         "0.0",
         "0.0",
         "0.0",
         "0.0",
         "0.0",
         "0.0",
         "7.6",
         "-0.8",
         "-4.06"
        ],
        [
         "25%",
         "1.0",
         "1.0",
         "1.0",
         "6.0",
         "1.0",
         "1.0",
         "1.0",
         "2.0",
         "3.0",
         "5.0",
         "5.0",
         "0.0",
         "0.0",
         "0.0",
         "1.0",
         "0.0",
         "0.0",
         "19.0",
         "0.0",
         "0.0",
         "5.0",
         "6.0",
         "3.0",
         "11.0",
         "0.0",
         "0.0",
         "5.0",
         "6.0",
         "2.0",
         "10.75",
         "0.0",
         "9.4",
         "0.3",
         "-1.7"
        ],
        [
         "50%",
         "1.0",
         "8.0",
         "1.0",
         "10.0",
         "1.0",
         "1.0",
         "1.0",
         "13.0",
         "14.0",
         "6.0",
         "8.0",
         "1.0",
         "0.0",
         "0.0",
         "1.0",
         "0.0",
         "0.0",
         "20.0",
         "0.0",
         "0.0",
         "6.0",
         "8.0",
         "5.0",
         "12.285714285714286",
         "0.0",
         "0.0",
         "6.0",
         "8.0",
         "5.0",
         "12.2",
         "0.0",
         "11.1",
         "1.4",
         "0.32"
        ],
        [
         "75%",
         "1.0",
         "12.0",
         "2.0",
         "13.0",
         "1.0",
         "1.0",
         "1.0",
         "22.0",
         "27.0",
         "10.0",
         "10.0",
         "1.0",
         "0.0",
         "0.0",
         "1.0",
         "1.0",
         "0.0",
         "25.0",
         "0.0",
         "0.0",
         "7.0",
         "10.0",
         "6.0",
         "13.4",
         "0.0",
         "0.0",
         "7.0",
         "10.0",
         "6.0",
         "13.333333333333334",
         "0.0",
         "13.9",
         "2.6",
         "1.79"
        ],
        [
         "max",
         "6.0",
         "18.0",
         "9.0",
         "17.0",
         "1.0",
         "17.0",
         "21.0",
         "29.0",
         "34.0",
         "32.0",
         "46.0",
         "1.0",
         "1.0",
         "1.0",
         "1.0",
         "1.0",
         "1.0",
         "70.0",
         "1.0",
         "20.0",
         "26.0",
         "45.0",
         "26.0",
         "18.875",
         "12.0",
         "19.0",
         "23.0",
         "33.0",
         "20.0",
         "18.571428571428573",
         "12.0",
         "16.2",
         "3.7",
         "3.51"
        ]
       ],
       "shape": {
        "columns": 34,
        "rows": 8
       }
      },
      "text/html": [
       "<div>\n",
       "<style scoped>\n",
       "    .dataframe tbody tr th:only-of-type {\n",
       "        vertical-align: middle;\n",
       "    }\n",
       "\n",
       "    .dataframe tbody tr th {\n",
       "        vertical-align: top;\n",
       "    }\n",
       "\n",
       "    .dataframe thead th {\n",
       "        text-align: right;\n",
       "    }\n",
       "</style>\n",
       "<table border=\"1\" class=\"dataframe\">\n",
       "  <thead>\n",
       "    <tr style=\"text-align: right;\">\n",
       "      <th></th>\n",
       "      <th>marital_status</th>\n",
       "      <th>application_mode</th>\n",
       "      <th>application_order</th>\n",
       "      <th>course</th>\n",
       "      <th>attendance</th>\n",
       "      <th>previous_qualification</th>\n",
       "      <th>nationality</th>\n",
       "      <th>mother's_qualification</th>\n",
       "      <th>father's_qualification</th>\n",
       "      <th>mother's_occupation</th>\n",
       "      <th>...</th>\n",
       "      <th>curricular_units_1st_sem_(without_evaluations)</th>\n",
       "      <th>curricular_units_2nd_sem_(credited)</th>\n",
       "      <th>curricular_units_2nd_sem_(enrolled)</th>\n",
       "      <th>curricular_units_2nd_sem_(evaluations)</th>\n",
       "      <th>curricular_units_2nd_sem_(approved)</th>\n",
       "      <th>curricular_units_2nd_sem_(grade)</th>\n",
       "      <th>curricular_units_2nd_sem_(without_evaluations)</th>\n",
       "      <th>unemployment_rate</th>\n",
       "      <th>inflation_rate</th>\n",
       "      <th>gdp</th>\n",
       "    </tr>\n",
       "  </thead>\n",
       "  <tbody>\n",
       "    <tr>\n",
       "      <th>count</th>\n",
       "      <td>4424.000000</td>\n",
       "      <td>4424.000000</td>\n",
       "      <td>4424.000000</td>\n",
       "      <td>4424.000000</td>\n",
       "      <td>4424.000000</td>\n",
       "      <td>4424.000000</td>\n",
       "      <td>4424.000000</td>\n",
       "      <td>4424.000000</td>\n",
       "      <td>4424.000000</td>\n",
       "      <td>4424.000000</td>\n",
       "      <td>...</td>\n",
       "      <td>4424.000000</td>\n",
       "      <td>4424.000000</td>\n",
       "      <td>4424.000000</td>\n",
       "      <td>4424.000000</td>\n",
       "      <td>4424.000000</td>\n",
       "      <td>4424.000000</td>\n",
       "      <td>4424.000000</td>\n",
       "      <td>4424.000000</td>\n",
       "      <td>4424.000000</td>\n",
       "      <td>4424.000000</td>\n",
       "    </tr>\n",
       "    <tr>\n",
       "      <th>mean</th>\n",
       "      <td>1.178571</td>\n",
       "      <td>6.886980</td>\n",
       "      <td>1.727848</td>\n",
       "      <td>9.899186</td>\n",
       "      <td>0.890823</td>\n",
       "      <td>2.531420</td>\n",
       "      <td>1.254521</td>\n",
       "      <td>12.322107</td>\n",
       "      <td>16.455244</td>\n",
       "      <td>7.317812</td>\n",
       "      <td>...</td>\n",
       "      <td>0.137658</td>\n",
       "      <td>0.541817</td>\n",
       "      <td>6.232143</td>\n",
       "      <td>8.063291</td>\n",
       "      <td>4.435805</td>\n",
       "      <td>10.230206</td>\n",
       "      <td>0.150316</td>\n",
       "      <td>11.566139</td>\n",
       "      <td>1.228029</td>\n",
       "      <td>0.001969</td>\n",
       "    </tr>\n",
       "    <tr>\n",
       "      <th>std</th>\n",
       "      <td>0.605747</td>\n",
       "      <td>5.298964</td>\n",
       "      <td>1.313793</td>\n",
       "      <td>4.331792</td>\n",
       "      <td>0.311897</td>\n",
       "      <td>3.963707</td>\n",
       "      <td>1.748447</td>\n",
       "      <td>9.026251</td>\n",
       "      <td>11.044800</td>\n",
       "      <td>3.997828</td>\n",
       "      <td>...</td>\n",
       "      <td>0.690880</td>\n",
       "      <td>1.918546</td>\n",
       "      <td>2.195951</td>\n",
       "      <td>3.947951</td>\n",
       "      <td>3.014764</td>\n",
       "      <td>5.210808</td>\n",
       "      <td>0.753774</td>\n",
       "      <td>2.663850</td>\n",
       "      <td>1.382711</td>\n",
       "      <td>2.269935</td>\n",
       "    </tr>\n",
       "    <tr>\n",
       "      <th>min</th>\n",
       "      <td>1.000000</td>\n",
       "      <td>1.000000</td>\n",
       "      <td>0.000000</td>\n",
       "      <td>1.000000</td>\n",
       "      <td>0.000000</td>\n",
       "      <td>1.000000</td>\n",
       "      <td>1.000000</td>\n",
       "      <td>1.000000</td>\n",
       "      <td>1.000000</td>\n",
       "      <td>1.000000</td>\n",
       "      <td>...</td>\n",
       "      <td>0.000000</td>\n",
       "      <td>0.000000</td>\n",
       "      <td>0.000000</td>\n",
       "      <td>0.000000</td>\n",
       "      <td>0.000000</td>\n",
       "      <td>0.000000</td>\n",
       "      <td>0.000000</td>\n",
       "      <td>7.600000</td>\n",
       "      <td>-0.800000</td>\n",
       "      <td>-4.060000</td>\n",
       "    </tr>\n",
       "    <tr>\n",
       "      <th>25%</th>\n",
       "      <td>1.000000</td>\n",
       "      <td>1.000000</td>\n",
       "      <td>1.000000</td>\n",
       "      <td>6.000000</td>\n",
       "      <td>1.000000</td>\n",
       "      <td>1.000000</td>\n",
       "      <td>1.000000</td>\n",
       "      <td>2.000000</td>\n",
       "      <td>3.000000</td>\n",
       "      <td>5.000000</td>\n",
       "      <td>...</td>\n",
       "      <td>0.000000</td>\n",
       "      <td>0.000000</td>\n",
       "      <td>5.000000</td>\n",
       "      <td>6.000000</td>\n",
       "      <td>2.000000</td>\n",
       "      <td>10.750000</td>\n",
       "      <td>0.000000</td>\n",
       "      <td>9.400000</td>\n",
       "      <td>0.300000</td>\n",
       "      <td>-1.700000</td>\n",
       "    </tr>\n",
       "    <tr>\n",
       "      <th>50%</th>\n",
       "      <td>1.000000</td>\n",
       "      <td>8.000000</td>\n",
       "      <td>1.000000</td>\n",
       "      <td>10.000000</td>\n",
       "      <td>1.000000</td>\n",
       "      <td>1.000000</td>\n",
       "      <td>1.000000</td>\n",
       "      <td>13.000000</td>\n",
       "      <td>14.000000</td>\n",
       "      <td>6.000000</td>\n",
       "      <td>...</td>\n",
       "      <td>0.000000</td>\n",
       "      <td>0.000000</td>\n",
       "      <td>6.000000</td>\n",
       "      <td>8.000000</td>\n",
       "      <td>5.000000</td>\n",
       "      <td>12.200000</td>\n",
       "      <td>0.000000</td>\n",
       "      <td>11.100000</td>\n",
       "      <td>1.400000</td>\n",
       "      <td>0.320000</td>\n",
       "    </tr>\n",
       "    <tr>\n",
       "      <th>75%</th>\n",
       "      <td>1.000000</td>\n",
       "      <td>12.000000</td>\n",
       "      <td>2.000000</td>\n",
       "      <td>13.000000</td>\n",
       "      <td>1.000000</td>\n",
       "      <td>1.000000</td>\n",
       "      <td>1.000000</td>\n",
       "      <td>22.000000</td>\n",
       "      <td>27.000000</td>\n",
       "      <td>10.000000</td>\n",
       "      <td>...</td>\n",
       "      <td>0.000000</td>\n",
       "      <td>0.000000</td>\n",
       "      <td>7.000000</td>\n",
       "      <td>10.000000</td>\n",
       "      <td>6.000000</td>\n",
       "      <td>13.333333</td>\n",
       "      <td>0.000000</td>\n",
       "      <td>13.900000</td>\n",
       "      <td>2.600000</td>\n",
       "      <td>1.790000</td>\n",
       "    </tr>\n",
       "    <tr>\n",
       "      <th>max</th>\n",
       "      <td>6.000000</td>\n",
       "      <td>18.000000</td>\n",
       "      <td>9.000000</td>\n",
       "      <td>17.000000</td>\n",
       "      <td>1.000000</td>\n",
       "      <td>17.000000</td>\n",
       "      <td>21.000000</td>\n",
       "      <td>29.000000</td>\n",
       "      <td>34.000000</td>\n",
       "      <td>32.000000</td>\n",
       "      <td>...</td>\n",
       "      <td>12.000000</td>\n",
       "      <td>19.000000</td>\n",
       "      <td>23.000000</td>\n",
       "      <td>33.000000</td>\n",
       "      <td>20.000000</td>\n",
       "      <td>18.571429</td>\n",
       "      <td>12.000000</td>\n",
       "      <td>16.200000</td>\n",
       "      <td>3.700000</td>\n",
       "      <td>3.510000</td>\n",
       "    </tr>\n",
       "  </tbody>\n",
       "</table>\n",
       "<p>8 rows × 34 columns</p>\n",
       "</div>"
      ],
      "text/plain": [
       "       marital_status  application_mode  application_order       course  \\\n",
       "count     4424.000000       4424.000000        4424.000000  4424.000000   \n",
       "mean         1.178571          6.886980           1.727848     9.899186   \n",
       "std          0.605747          5.298964           1.313793     4.331792   \n",
       "min          1.000000          1.000000           0.000000     1.000000   \n",
       "25%          1.000000          1.000000           1.000000     6.000000   \n",
       "50%          1.000000          8.000000           1.000000    10.000000   \n",
       "75%          1.000000         12.000000           2.000000    13.000000   \n",
       "max          6.000000         18.000000           9.000000    17.000000   \n",
       "\n",
       "        attendance  previous_qualification  nationality  \\\n",
       "count  4424.000000             4424.000000  4424.000000   \n",
       "mean      0.890823                2.531420     1.254521   \n",
       "std       0.311897                3.963707     1.748447   \n",
       "min       0.000000                1.000000     1.000000   \n",
       "25%       1.000000                1.000000     1.000000   \n",
       "50%       1.000000                1.000000     1.000000   \n",
       "75%       1.000000                1.000000     1.000000   \n",
       "max       1.000000               17.000000    21.000000   \n",
       "\n",
       "       mother's_qualification  father's_qualification  mother's_occupation  \\\n",
       "count             4424.000000             4424.000000          4424.000000   \n",
       "mean                12.322107               16.455244             7.317812   \n",
       "std                  9.026251               11.044800             3.997828   \n",
       "min                  1.000000                1.000000             1.000000   \n",
       "25%                  2.000000                3.000000             5.000000   \n",
       "50%                 13.000000               14.000000             6.000000   \n",
       "75%                 22.000000               27.000000            10.000000   \n",
       "max                 29.000000               34.000000            32.000000   \n",
       "\n",
       "       ...  curricular_units_1st_sem_(without_evaluations)  \\\n",
       "count  ...                                     4424.000000   \n",
       "mean   ...                                        0.137658   \n",
       "std    ...                                        0.690880   \n",
       "min    ...                                        0.000000   \n",
       "25%    ...                                        0.000000   \n",
       "50%    ...                                        0.000000   \n",
       "75%    ...                                        0.000000   \n",
       "max    ...                                       12.000000   \n",
       "\n",
       "       curricular_units_2nd_sem_(credited)  \\\n",
       "count                          4424.000000   \n",
       "mean                              0.541817   \n",
       "std                               1.918546   \n",
       "min                               0.000000   \n",
       "25%                               0.000000   \n",
       "50%                               0.000000   \n",
       "75%                               0.000000   \n",
       "max                              19.000000   \n",
       "\n",
       "       curricular_units_2nd_sem_(enrolled)  \\\n",
       "count                          4424.000000   \n",
       "mean                              6.232143   \n",
       "std                               2.195951   \n",
       "min                               0.000000   \n",
       "25%                               5.000000   \n",
       "50%                               6.000000   \n",
       "75%                               7.000000   \n",
       "max                              23.000000   \n",
       "\n",
       "       curricular_units_2nd_sem_(evaluations)  \\\n",
       "count                             4424.000000   \n",
       "mean                                 8.063291   \n",
       "std                                  3.947951   \n",
       "min                                  0.000000   \n",
       "25%                                  6.000000   \n",
       "50%                                  8.000000   \n",
       "75%                                 10.000000   \n",
       "max                                 33.000000   \n",
       "\n",
       "       curricular_units_2nd_sem_(approved)  curricular_units_2nd_sem_(grade)  \\\n",
       "count                          4424.000000                       4424.000000   \n",
       "mean                              4.435805                         10.230206   \n",
       "std                               3.014764                          5.210808   \n",
       "min                               0.000000                          0.000000   \n",
       "25%                               2.000000                         10.750000   \n",
       "50%                               5.000000                         12.200000   \n",
       "75%                               6.000000                         13.333333   \n",
       "max                              20.000000                         18.571429   \n",
       "\n",
       "       curricular_units_2nd_sem_(without_evaluations)  unemployment_rate  \\\n",
       "count                                     4424.000000        4424.000000   \n",
       "mean                                         0.150316          11.566139   \n",
       "std                                          0.753774           2.663850   \n",
       "min                                          0.000000           7.600000   \n",
       "25%                                          0.000000           9.400000   \n",
       "50%                                          0.000000          11.100000   \n",
       "75%                                          0.000000          13.900000   \n",
       "max                                         12.000000          16.200000   \n",
       "\n",
       "       inflation_rate          gdp  \n",
       "count     4424.000000  4424.000000  \n",
       "mean         1.228029     0.001969  \n",
       "std          1.382711     2.269935  \n",
       "min         -0.800000    -4.060000  \n",
       "25%          0.300000    -1.700000  \n",
       "50%          1.400000     0.320000  \n",
       "75%          2.600000     1.790000  \n",
       "max          3.700000     3.510000  \n",
       "\n",
       "[8 rows x 34 columns]"
      ]
     },
     "execution_count": 5,
     "metadata": {},
     "output_type": "execute_result"
    }
   ],
   "source": [
    "df_students.describe()"
   ]
  },
  {
   "cell_type": "markdown",
   "metadata": {},
   "source": [
    "## <span style=\"color:#f6f794\"> Checking and changing categorical values according the information from where the dataset is </span>\n",
    "\n",
    "https://www.kaggle.com/datasets/thedevastator/higher-education-predictors-of-student-retention/data\n",
    "\n",
    "https://github.com/carmelh/SQL_projects/tree/main/student_data_analysis/Datasets\n",
    "\n",
    "| Column name                                | Description                                                                    | Type                                             |\n",
    "|--------------------------------------------|--------------------------------------------------------------------------------|--------------------------------------------------|\n",
    "| Marital status                             | The marital status of the student.                                             | <span style=\"color:#01C3F5\"> Categorical </span> |\n",
    "| Application mode                           | The method of application used by the student.                                 | <span style=\"color:#01C3F5\"> Categorical </span> |\n",
    "| Application order                          | The order in which the student applied.                                        | <span style=\"color:#EF2877\"> Numerical   </span> |\n",
    "| Course                                     | The course taken by the student.                                               | <span style=\"color:#01C3F5\"> Categorical </span> |\n",
    "| Daytime/evening attendance                 | Whether the student attends classes during the day or in the evening.          | <span style=\"color:#01C3F5\"> Categorical </span> |\n",
    "| Previous qualification                     | The qualification obtained by the student before enrolling in higher education.| <span style=\"color:#01C3F5\"> Categorical </span> |\n",
    "| Nacionality                                | The nationality of the student.                                                | <span style=\"color:#01C3F5\"> Categorical </span> |\n",
    "| Mother's qualification                     | The qualification of the student's mother.                                     | <span style=\"color:#01C3F5\"> Categorical </span> |\n",
    "| Father's qualification                     | The qualification of the student's father.                                     | <span style=\"color:#01C3F5\"> Categorical </span> |\n",
    "| Mother's occupation                        | The occupation of the student's mother.                                        | <span style=\"color:#01C3F5\"> Categorical </span> |\n",
    "| Father's occupation                        | The occupation of the student's father.                                        | <span style=\"color:#01C3F5\"> Categorical </span> |\n",
    "| Displaced                                  | Whether the student is a displaced person.                                     | <span style=\"color:#01C3F5\"> Categorical </span> |\n",
    "| Educational special needs                  | Whether the student has any special educational needs.                         | <span style=\"color:#01C3F5\"> Categorical </span> |\n",
    "| Debtor                                     | Whether the student is a debtor.                                               | <span style=\"color:#01C3F5\"> Categorical </span> |\n",
    "| Tuition fees up to date                    | Whether the student's tuition fees are up to date.                             | <span style=\"color:#01C3F5\"> Categorical </span> |\n",
    "| Gender                                     | The gender of the student.                                                     | <span style=\"color:#01C3F5\"> Categorical </span> |\n",
    "| Scholarship holder                         | Whether the student is a scholarship holder.                                   | <span style=\"color:#01C3F5\"> Categorical </span> |\n",
    "| Age at enrollment                          | The age of the student at the time of enrollment.                              | <span style=\"color:#EF2877\"> Numerical   </span> |\n",
    "| International                              | Whether the student is an international student.                               | <span style=\"color:#01C3F5\"> Categorical </span> |\n",
    "| Curricular units 1st sem (credited)        | The number of curricular units credited by the student in the first semester.  | <span style=\"color:#EF2877\"> Numerical   </span> |\n",
    "| Curricular units 1st sem (enrolled)        | The number of curricular units enrolled by the student in the first semester.  | <span style=\"color:#EF2877\"> Numerical   </span> |\n",
    "| Curricular units 1st sem (evaluations)     | The number of curricular units evaluated by the student in the first semester. | <span style=\"color:#EF2877\"> Numerical   </span> |\n",
    "| Curricular units 1st sem (approved)        | The number of curricular units approved by the student in the first semester.  | <span style=\"color:#EF2877\"> Numerical   </span> |\n"
   ]
  },
  {
   "cell_type": "markdown",
   "metadata": {},
   "source": [
    "### Marital status"
   ]
  },
  {
   "cell_type": "code",
   "execution_count": 6,
   "metadata": {},
   "outputs": [
    {
     "data": {
      "text/plain": [
       "6"
      ]
     },
     "execution_count": 6,
     "metadata": {},
     "output_type": "execute_result"
    }
   ],
   "source": [
    "df_students[\"marital_status\"].nunique() # 6"
   ]
  },
  {
   "cell_type": "code",
   "execution_count": 7,
   "metadata": {},
   "outputs": [],
   "source": [
    "marital_status_map = {\n",
    "    1: 'Single',\n",
    "    2: 'Married',\n",
    "    3: 'Widower',\n",
    "    4: 'Divorced',\n",
    "    5: 'Common-law marriage',\n",
    "    6: 'Legally separated'\n",
    "}\n",
    "df_students[\"marital_status\"] = df_students[\"marital_status\"].map(marital_status_map)"
   ]
  },
  {
   "cell_type": "code",
   "execution_count": 8,
   "metadata": {},
   "outputs": [
    {
     "data": {
      "text/plain": [
       "marital_status\n",
       "Single                 3919\n",
       "Married                 379\n",
       "Divorced                 91\n",
       "Common-law marriage      25\n",
       "Legally separated         6\n",
       "Widower                   4\n",
       "Name: count, dtype: int64"
      ]
     },
     "execution_count": 8,
     "metadata": {},
     "output_type": "execute_result"
    }
   ],
   "source": [
    "df_students[\"marital_status\"].value_counts()"
   ]
  },
  {
   "cell_type": "markdown",
   "metadata": {},
   "source": [
    "### Application mode"
   ]
  },
  {
   "cell_type": "code",
   "execution_count": 9,
   "metadata": {},
   "outputs": [
    {
     "data": {
      "text/plain": [
       "18"
      ]
     },
     "execution_count": 9,
     "metadata": {},
     "output_type": "execute_result"
    }
   ],
   "source": [
    "df_students[\"application_mode\"].nunique() # 18"
   ]
  },
  {
   "cell_type": "code",
   "execution_count": 10,
   "metadata": {},
   "outputs": [
    {
     "data": {
      "text/plain": [
       "application_mode\n",
       "1st phase—general contingent                           1708\n",
       "2nd phase—general contingent                            872\n",
       "Over 23 years old                                       785\n",
       "Change in course                                        312\n",
       "Technological specialization diploma holders            213\n",
       "Holders of other higher courses                         139\n",
       "3rd phase—general contingent                            124\n",
       "Transfer                                                 77\n",
       "Change in institution/course                             59\n",
       "1st phase—special contingent (Madeira Island)            38\n",
       "Short cycle diploma holders                              35\n",
       "International student (bachelor)                         30\n",
       "1st phase—special contingent (Azores Island)             16\n",
       "Ordinance No. 854-B/99                                   10\n",
       "Ordinance No. 612/93                                      3\n",
       "Change in institution/course (International)              1\n",
       "Ordinance No. 533-A/99, item b2) (Different Plan)         1\n",
       "Ordinance No. 533-A/99, item b3 (Other Institution)       1\n",
       "Name: count, dtype: int64"
      ]
     },
     "execution_count": 10,
     "metadata": {},
     "output_type": "execute_result"
    }
   ],
   "source": [
    "application_mode_map = {\n",
    "    1:\t\"1st phase—general contingent\",\n",
    "    2:\t\"Ordinance No. 612/93\",\n",
    "    3:\t\"1st phase—special contingent (Azores Island)\",\n",
    "    4:\t\"Holders of other higher courses\",\n",
    "    5:\t\"Ordinance No. 854-B/99\",\n",
    "    6:\t\"International student (bachelor)\",\n",
    "    7:\t\"1st phase—special contingent (Madeira Island)\",\n",
    "    8:\t\"2nd phase—general contingent\",\n",
    "    9:\t\"3rd phase—general contingent\",\n",
    "    10:\t\"Ordinance No. 533-A/99, item b2) (Different Plan)\",\n",
    "    11:\t\"Ordinance No. 533-A/99, item b3 (Other Institution)\",\n",
    "    12:\t\"Over 23 years old\",\n",
    "    13:\t\"Transfer\",\n",
    "    14:\t\"Change in course\",\n",
    "    15:\t\"Technological specialization diploma holders\",\n",
    "    16:\t\"Change in institution/course\",\n",
    "    17:\t\"Short cycle diploma holders\",\n",
    "    18:\t\"Change in institution/course (International)\"\n",
    "}\n",
    "\n",
    "df_students[\"application_mode\"] = df_students[\"application_mode\"].map(application_mode_map)\n",
    "df_students[\"application_mode\"].value_counts()"
   ]
  },
  {
   "cell_type": "markdown",
   "metadata": {},
   "source": [
    "### Course"
   ]
  },
  {
   "cell_type": "code",
   "execution_count": 11,
   "metadata": {},
   "outputs": [
    {
     "data": {
      "text/plain": [
       "17"
      ]
     },
     "execution_count": 11,
     "metadata": {},
     "output_type": "execute_result"
    }
   ],
   "source": [
    "df_students[\"course\"].nunique() # 17"
   ]
  },
  {
   "cell_type": "code",
   "execution_count": 12,
   "metadata": {},
   "outputs": [
    {
     "data": {
      "text/plain": [
       "course\n",
       "Nursing                                 766\n",
       "Management                              380\n",
       "Social Service                          355\n",
       "Veterinary Nursing                      337\n",
       "Journalism and Communication            331\n",
       "Advertising and Marketing Management    268\n",
       "Management (evening attendance)         268\n",
       "Tourism                                 252\n",
       "Communication Design                    226\n",
       "Animation and Multimedia Design         215\n",
       "Social Service (evening attendance)     215\n",
       "Agronomy                                210\n",
       "Basic Education                         192\n",
       "Informatics Engineering                 170\n",
       "Equiniculture                           141\n",
       "Oral Hygiene                             86\n",
       "Biofuel Production Technologies          12\n",
       "Name: count, dtype: int64"
      ]
     },
     "execution_count": 12,
     "metadata": {},
     "output_type": "execute_result"
    }
   ],
   "source": [
    "course_map = {\n",
    "    1: \"Biofuel Production Technologies\",\n",
    "    2: \"Animation and Multimedia Design\",\n",
    "    3: \"Social Service (evening attendance)\",\n",
    "    4: \"Agronomy\",\n",
    "    5: \"Communication Design\",\n",
    "    6: \"Veterinary Nursing\",\n",
    "    7: \"Informatics Engineering\",\n",
    "    8: \"Equiniculture\",\n",
    "    9: \"Management\",\n",
    "    10: \"Social Service\",\n",
    "    11: \"Tourism\",\n",
    "    12: \"Nursing\",\n",
    "    13: \"Oral Hygiene\",\n",
    "    14: \"Advertising and Marketing Management\",\n",
    "    15: \"Journalism and Communication\",\n",
    "    16: \"Basic Education\",\n",
    "    17: \"Management (evening attendance)\"\n",
    "}\n",
    "df_students[\"course\"] = df_students[\"course\"].map(course_map)\n",
    "df_students[\"course\"].value_counts()"
   ]
  },
  {
   "cell_type": "markdown",
   "metadata": {},
   "source": [
    "### Attendance"
   ]
  },
  {
   "cell_type": "code",
   "execution_count": 13,
   "metadata": {},
   "outputs": [
    {
     "data": {
      "text/plain": [
       "2"
      ]
     },
     "execution_count": 13,
     "metadata": {},
     "output_type": "execute_result"
    }
   ],
   "source": [
    "df_students[\"attendance\"].nunique() # 2"
   ]
  },
  {
   "cell_type": "code",
   "execution_count": 14,
   "metadata": {},
   "outputs": [
    {
     "data": {
      "text/plain": [
       "attendance\n",
       "Daytime    3941\n",
       "Evening     483\n",
       "Name: count, dtype: int64"
      ]
     },
     "execution_count": 14,
     "metadata": {},
     "output_type": "execute_result"
    }
   ],
   "source": [
    "attendance_map = {\n",
    "    0: \"Evening\",\n",
    "    1: \"Daytime\"\n",
    "}\n",
    "df_students[\"attendance\"] = df_students[\"attendance\"].map(attendance_map)\n",
    "df_students[\"attendance\"].value_counts()"
   ]
  },
  {
   "cell_type": "markdown",
   "metadata": {},
   "source": [
    "### Previous qualification "
   ]
  },
  {
   "cell_type": "code",
   "execution_count": 15,
   "metadata": {},
   "outputs": [
    {
     "data": {
      "text/plain": [
       "17"
      ]
     },
     "execution_count": 15,
     "metadata": {},
     "output_type": "execute_result"
    }
   ],
   "source": [
    "df_students[\"previous_qualification\"].nunique() # 17"
   ]
  },
  {
   "cell_type": "code",
   "execution_count": 16,
   "metadata": {},
   "outputs": [
    {
     "data": {
      "text/plain": [
       "previous_qualification\n",
       "Secondary education                                             3717\n",
       "Technological specialization course                              219\n",
       "Basic education 3rd cycle (9th/10th/11th year) or equivalent     162\n",
       "Higher education—degree                                          126\n",
       "Other—11th year of schooling                                      45\n",
       "Higher education—degree (1st cycle)                               40\n",
       "Professional higher technical course                              36\n",
       "Higher education—bachelor’s degree                                23\n",
       "Frequency of higher education                                     16\n",
       "12th year of schooling—not completed                              11\n",
       "Higher education—master’s degree                                   8\n",
       "Basic education 2nd cycle (6th/7th/8th year) or equivalent         7\n",
       "Higher education—master’s degree (2nd cycle)                       6\n",
       "11th year of schooling—not completed                               4\n",
       "10th year of schooling—not completed                               2\n",
       "Higher education—doctorate                                         1\n",
       "10th year of schooling                                             1\n",
       "Name: count, dtype: int64"
      ]
     },
     "execution_count": 16,
     "metadata": {},
     "output_type": "execute_result"
    }
   ],
   "source": [
    "previous_qualification_map = {\n",
    "    1: \"Secondary education\",\n",
    "    2: \"Higher education—bachelor’s degree\",\n",
    "    3: \"Higher education—degree\",\n",
    "    4: \"Higher education—master’s degree\",\n",
    "    5: \"Higher education—doctorate\",\n",
    "    6: \"Frequency of higher education\",\n",
    "    7: \"12th year of schooling—not completed\",\n",
    "    8: \"11th year of schooling—not completed\",\n",
    "    9: \"Other—11th year of schooling\",\n",
    "    10: \"10th year of schooling\",\n",
    "    11: \"10th year of schooling—not completed\",\n",
    "    12: \"Basic education 3rd cycle (9th/10th/11th year) or equivalent\",\n",
    "    13: \"Basic education 2nd cycle (6th/7th/8th year) or equivalent\",\n",
    "    14: \"Technological specialization course\",\n",
    "    15: \"Higher education—degree (1st cycle)\",\n",
    "    16: \"Professional higher technical course\",\n",
    "    17: \"Higher education—master’s degree (2nd cycle)\"\n",
    "}\n",
    "df_students[\"previous_qualification\"] = df_students[\"previous_qualification\"].map(previous_qualification_map)\n",
    "df_students[\"previous_qualification\"].value_counts()"
   ]
  },
  {
   "cell_type": "markdown",
   "metadata": {},
   "source": [
    "### Nationality  "
   ]
  },
  {
   "cell_type": "code",
   "execution_count": 17,
   "metadata": {},
   "outputs": [
    {
     "data": {
      "text/plain": [
       "21"
      ]
     },
     "execution_count": 17,
     "metadata": {},
     "output_type": "execute_result"
    }
   ],
   "source": [
    "df_students[\"nationality\"].nunique() # 21"
   ]
  },
  {
   "cell_type": "code",
   "execution_count": 18,
   "metadata": {},
   "outputs": [],
   "source": [
    "nationality_map = {\n",
    "    1: \"Portuguese\",\n",
    "    2: \"German\",\n",
    "    3: \"Spanish\",\n",
    "    4: \"Italian\",\n",
    "    5: \"Dutch\",\n",
    "    6: \"English\",\n",
    "    7: \"Lithuanian\",\n",
    "    8: \"Angolan\",\n",
    "    9: \"Cape Verdean\",\n",
    "    10: \"Guinean\",\n",
    "    11: \"Mozambican\",\n",
    "    12: \"Santomean\",\n",
    "    13: \"Turkish\",\n",
    "    14: \"Brazilian\",\n",
    "    15: \"Romanian\",\n",
    "    16: \"Moldova (Republic of)\",\n",
    "    17: \"Mexican\",\n",
    "    18: \"Ukrainian\",\n",
    "    19: \"Russian\",\n",
    "    20: \"Cuban\",\n",
    "    21: \"Colombian\"\n",
    "}\n",
    "\n",
    "df_students[\"nationality\"] = df_students[\"nationality\"].map(nationality_map)\n",
    "# df_students[\"nationality\"].value_counts()\n"
   ]
  },
  {
   "cell_type": "markdown",
   "metadata": {},
   "source": [
    "### Mother's qualification  &    Father's qualification "
   ]
  },
  {
   "cell_type": "code",
   "execution_count": 19,
   "metadata": {},
   "outputs": [
    {
     "data": {
      "text/plain": [
       "34"
      ]
     },
     "execution_count": 19,
     "metadata": {},
     "output_type": "execute_result"
    }
   ],
   "source": [
    "df_students[\"mother's_qualification\"].nunique() # 29\n",
    "df_students[\"father's_qualification\"].nunique() # 34"
   ]
  },
  {
   "cell_type": "code",
   "execution_count": 20,
   "metadata": {},
   "outputs": [],
   "source": [
    "parents_qualification_map = {\n",
    "    1: \"Secondary education—12th year of schooling or equivalent\",\n",
    "    2: \"Higher education—bachelor’s degree\",\n",
    "    3: \"Higher education—degree\",\n",
    "    4: \"Higher education—master’s degree\",\n",
    "    5: \"Higher education—doctorate\",\n",
    "    6: \"Frequency of higher education\",\n",
    "    7: \"12th year of schooling—not completed\",\n",
    "    8: \"11th year of schooling—not completed\",\n",
    "    9: \"7th year (old)\",\n",
    "    10: \"Other—11th year of schooling\",\n",
    "    11: \"2nd year complementary high school course\",\n",
    "    12: \"10th year of schooling\",\n",
    "    13: \"General commerce course\",\n",
    "    14: \"Basic education 3rd cycle (9th/10th/11th year) or equivalent\",\n",
    "    15: \"Complementary high school course\",\n",
    "    16: \"Technical-professional course\",\n",
    "    17: \"Complementary high school course—not concluded\",\n",
    "    18: \"7th year of schooling\",\n",
    "    19: \"2nd cycle of the general high school course\",\n",
    "    20: \"9th year of schooling—not completed\",\n",
    "    21: \"8th year of schooling\",\n",
    "    22: \"General course of administration and commerce\",\n",
    "    23: \"Supplementary accounting and administration\",\n",
    "    24: \"Unknown\",\n",
    "    25: \"Cannot read or write\",\n",
    "    26: \"Can read without having a 4th year of schooling\",\n",
    "    27: \"Basic education 1st cycle (4th/5th year) or equivalent\",\n",
    "    28: \"Basic education 2nd cycle (6th/7th/8th year) or equivalent\",\n",
    "    29: \"Technological specialization course\",\n",
    "    30: \"Higher education—degree (1st cycle)\",\n",
    "    31: \"Specialized higher studies course\",\n",
    "    32: \"Professional higher technical course\",\n",
    "    33: \"Higher education—master’s degree (2nd cycle)\",\n",
    "    34: \"Higher education—doctorate (3rd cycle)\"\n",
    "}\n",
    "df_students[\"mother's_qualification\"] = df_students[\"mother's_qualification\"].map(parents_qualification_map)\n",
    "df_students[\"father's_qualification\"] = df_students[\"father's_qualification\"].map(parents_qualification_map)\n",
    "# df_students[\"mother's_qualification\"].value_counts()\n",
    "# df_students[\"father's_qualification\"].value_counts()"
   ]
  },
  {
   "cell_type": "markdown",
   "metadata": {},
   "source": [
    "### Mother's occupation   &  Father's occupation "
   ]
  },
  {
   "cell_type": "code",
   "execution_count": 21,
   "metadata": {},
   "outputs": [
    {
     "data": {
      "text/plain": [
       "46"
      ]
     },
     "execution_count": 21,
     "metadata": {},
     "output_type": "execute_result"
    }
   ],
   "source": [
    "df_students[\"mother's_occupation\"].nunique() # 32\n",
    "df_students[\"father's_occupation\"].nunique() # 46"
   ]
  },
  {
   "cell_type": "code",
   "execution_count": 22,
   "metadata": {},
   "outputs": [],
   "source": [
    "parents_occupation_map = {\n",
    "    1: \"Student\",\n",
    "    2: \"Representatives of the Legislative Power and Executive Bodies, Directors, Directors and Executive Managers\",\n",
    "    3: \"Specialists in Intellectual and Scientific Activities\",\n",
    "    4: \"Intermediate Level Technicians and Professions\",\n",
    "    5: \"Administrative staff\",\n",
    "    6: \"Personal Services, Security and Safety Workers, and Sellers\",\n",
    "    7: \"Farmers and Skilled Workers in Agriculture, Fisheries, and Forestry\",\n",
    "    8: \"Skilled Workers in Industry, Construction, and Craftsmen\",\n",
    "    9: \"Installation and Machine Operators and Assembly Workers\",\n",
    "    10: \"Unskilled Workers\",\n",
    "    11: \"Armed Forces Professions\",\n",
    "    12: \"Other Situation; 13—(blank)\",\n",
    "    13: \"Armed Forces Officers\",\n",
    "    14: \"Armed Forces Sergeants\",\n",
    "    15: \"Other Armed Forces personnel\",\n",
    "    16: \"Directors of administrative and commercial services\",\n",
    "    17: \"Hotel, catering, trade, and other services directors\",\n",
    "    18: \"Specialists in the physical sciences, mathematics, engineering, and related techniques\",\n",
    "    19: \"Health professionals\",\n",
    "    20: \"Teachers\",\n",
    "    21: \"Specialists in finance, accounting, administrative organization, and public and commercial relations\",\n",
    "    22: \"Intermediate level science and engineering technicians and professions\",\n",
    "    23: \"Technicians and professionals of intermediate level of health\",\n",
    "    24: \"Intermediate level technicians from legal, social, sports, cultural, and similar services\",\n",
    "    25: \"Information and communication technology technicians\",\n",
    "    26: \"Office workers, secretaries in general, and data processing operators\",\n",
    "    27: \"Data, accounting, statistical, financial services, and registry-related operators\",\n",
    "    28: \"Other administrative support staff\",\n",
    "    29: \"Personal service workers\",\n",
    "    30: \"Sellers\",\n",
    "    31: \"Personal care workers and the like\",\n",
    "    32: \"Protection and security services personnel\",\n",
    "    33: \"Market-oriented farmers and skilled agricultural and animal production workers\",\n",
    "    34: \"Farmers, livestock keepers, fishermen, hunters and gatherers, and subsistence\",\n",
    "    35: \"Skilled construction workers and the like, except electricians\",\n",
    "    36: \"Skilled workers in metallurgy, metalworking, and similar\",\n",
    "    37: \"Skilled workers in electricity and electronics\",\n",
    "    38: \"Workers in food processing, woodworking, and clothing and other industries and crafts\",\n",
    "    39: \"Fixed plant and machine operators\",\n",
    "    40: \"Assembly workers\",\n",
    "    41: \"Vehicle drivers and mobile equipment operators\",\n",
    "    42: \"Unskilled workers in agriculture, animal production, and fisheries and forestry\",\n",
    "    43: \"Unskilled workers in extractive industry, construction, manufacturing, and transport\",\n",
    "    44: \"Meal preparation assistants\",\n",
    "    45: \"Street vendors (except food) and street service providers\",\n",
    "    46: \"Other occupations\"\n",
    "}\n",
    "\n",
    "df_students[\"mother's_occupation\"] = df_students[\"mother's_occupation\"].map(parents_occupation_map)\n",
    "df_students[\"father's_occupation\"] = df_students[\"father's_occupation\"].map(parents_occupation_map)\n",
    "# df_students[\"mother's_occupation\"].value_counts()\n",
    "# df_students[\"father's_occupation\"].value_counts()"
   ]
  },
  {
   "cell_type": "markdown",
   "metadata": {},
   "source": [
    "### Displaced"
   ]
  },
  {
   "cell_type": "code",
   "execution_count": 23,
   "metadata": {},
   "outputs": [],
   "source": [
    "df_students[\"displaced\"].nunique() # 2\n",
    "df_students[\"displaced\"].value_counts()\n",
    "\n",
    "displaced_map = {\n",
    "    0: \"No\",\n",
    "    1: \"Yes\"\n",
    "}\n",
    "\n",
    "df_students[\"displaced\"] = df_students[\"displaced\"].map(displaced_map)"
   ]
  },
  {
   "cell_type": "markdown",
   "metadata": {},
   "source": [
    "### Educational special needs      "
   ]
  },
  {
   "cell_type": "code",
   "execution_count": 24,
   "metadata": {},
   "outputs": [],
   "source": [
    "df_students[\"educational_special_needs\"].nunique() # 2\n",
    "df_students[\"educational_special_needs\"].value_counts()\n",
    "\n",
    "educational_special_needs_map = {\n",
    "    0: \"No\",\n",
    "    1: \"Yes\"\n",
    "}\n",
    "df_students[\"educational_special_needs\"] = df_students[\"educational_special_needs\"].map(educational_special_needs_map)"
   ]
  },
  {
   "cell_type": "markdown",
   "metadata": {},
   "source": [
    "### Debtor "
   ]
  },
  {
   "cell_type": "code",
   "execution_count": 25,
   "metadata": {},
   "outputs": [],
   "source": [
    "df_students[\"debtor\"].nunique() # 2\n",
    "df_students[\"debtor\"].value_counts()\n",
    "\n",
    "debtor_map = {\n",
    "    0: \"No\",\n",
    "    1: \"Yes\"\n",
    "} \n",
    "df_students[\"debtor\"] = df_students[\"debtor\"].map(debtor_map)"
   ]
  },
  {
   "cell_type": "markdown",
   "metadata": {},
   "source": [
    "### Tuition fees up to date "
   ]
  },
  {
   "cell_type": "code",
   "execution_count": 26,
   "metadata": {},
   "outputs": [],
   "source": [
    "df_students[\"tuition_fees_up_to_date\"].nunique() # 2\n",
    "df_students[\"tuition_fees_up_to_date\"].value_counts()\n",
    "\n",
    "tuition_fees_up_to_date_map = {\n",
    "    0: \"No\",\n",
    "    1: \"Yes\"\n",
    "}\n",
    "df_students[\"tuition_fees_up_to_date\"] = df_students[\"tuition_fees_up_to_date\"].map(tuition_fees_up_to_date_map)"
   ]
  },
  {
   "cell_type": "markdown",
   "metadata": {},
   "source": [
    "### Gender"
   ]
  },
  {
   "cell_type": "code",
   "execution_count": 27,
   "metadata": {},
   "outputs": [
    {
     "data": {
      "text/plain": [
       "2"
      ]
     },
     "execution_count": 27,
     "metadata": {},
     "output_type": "execute_result"
    }
   ],
   "source": [
    "df_students[\"gender\"].nunique() # 2"
   ]
  },
  {
   "cell_type": "code",
   "execution_count": 28,
   "metadata": {},
   "outputs": [
    {
     "data": {
      "text/plain": [
       "gender\n",
       "Female    2868\n",
       "Male      1556\n",
       "Name: count, dtype: int64"
      ]
     },
     "execution_count": 28,
     "metadata": {},
     "output_type": "execute_result"
    }
   ],
   "source": [
    "gender_map = {\n",
    "    0: \"Female\",\n",
    "    1: \"Male\"\n",
    "}\n",
    "\n",
    "df_students[\"gender\"] = df_students[\"gender\"].map(gender_map)\n",
    "df_students[\"gender\"].value_counts()"
   ]
  },
  {
   "cell_type": "markdown",
   "metadata": {},
   "source": [
    "### Scholarship holder    "
   ]
  },
  {
   "cell_type": "code",
   "execution_count": 29,
   "metadata": {},
   "outputs": [],
   "source": [
    "df_students[\"scholarship_holder\"].nunique() # 2\n",
    "df_students[\"scholarship_holder\"].value_counts()\n",
    "\n",
    "scholarship_holder_map = {\n",
    "    0: \"No\",\n",
    "    1: \"Yes\"\n",
    "}\n",
    "df_students[\"scholarship_holder\"] = df_students[\"scholarship_holder\"].map(scholarship_holder_map)"
   ]
  },
  {
   "cell_type": "markdown",
   "metadata": {},
   "source": [
    "## <span style=\"color:#f6f794\">  Revisión de la cardinalidad </span>\n",
    "\n",
    "Revisar la cantidad de valores únicos de las columnas categóricas para evaluar y se ha de usar one-hot encoding o no."
   ]
  },
  {
   "cell_type": "code",
   "execution_count": 30,
   "metadata": {},
   "outputs": [
    {
     "name": "stdout",
     "output_type": "stream",
     "text": [
      "marital_status: 6\n",
      "application_mode: 18\n",
      "course: 17\n",
      "attendance: 2\n",
      "previous_qualification: 17\n",
      "nationality: 21\n",
      "mother's_qualification: 29\n",
      "father's_qualification: 34\n",
      "mother's_occupation: 32\n",
      "father's_occupation: 46\n",
      "displaced: 2\n",
      "educational_special_needs: 2\n",
      "debtor: 2\n",
      "tuition_fees_up_to_date: 2\n",
      "gender: 2\n",
      "scholarship_holder: 2\n",
      "target: 3\n"
     ]
    }
   ],
   "source": [
    "for col in df_students.columns:\n",
    "    if df_students[col].dtype == 'object' or df_students[col].dtype.name == 'category':\n",
    "        print(f\"{col}: {df_students[col].nunique()}\")\n"
   ]
  },
  {
   "cell_type": "markdown",
   "metadata": {},
   "source": [
    "## <span style=\"color:#f6f794\">  Revisión de las variables importantes </span>"
   ]
  },
  {
   "cell_type": "code",
   "execution_count": 31,
   "metadata": {},
   "outputs": [
    {
     "data": {
      "text/plain": [
       "<Axes: title={'center': \"Top 10 - Mother's Occupation\"}, xlabel=\"mother's_occupation\">"
      ]
     },
     "execution_count": 31,
     "metadata": {},
     "output_type": "execute_result"
    },
    {
     "data": {
      "image/png": "[encoded data removed]",
      "text/plain": [
       "<Figure size 640x480 with 1 Axes>"
      ]
     },
     "metadata": {},
     "output_type": "display_data"
    }
   ],
   "source": [
    "# Ver el top 10 de las ocupaciones de los padres\n",
    "df_students[\"father's_occupation\"].value_counts(normalize=True).head(10).plot(kind='bar', title=\"Top 10 - Father's Occupation\")\n",
    "df_students[\"mother's_occupation\"].value_counts(normalize=True).head(10).plot(kind='bar', title=\"Top 10 - Mother's Occupation\")\n",
    "\n"
   ]
  },
  {
   "cell_type": "markdown",
   "metadata": {},
   "source": [
    "### Ver la relación entre categorías de una columna con la columna target"
   ]
  },
  {
   "cell_type": "code",
   "execution_count": 32,
   "metadata": {},
   "outputs": [
    {
     "data": {
      "application/vnd.microsoft.datawrangler.viewer.v0+json": {
       "columns": [
        {
         "name": "mother's_occupation",
         "rawType": "object",
         "type": "string"
        },
        {
         "name": "Dropout",
         "rawType": "float64",
         "type": "float"
        },
        {
         "name": "Enrolled",
         "rawType": "float64",
         "type": "float"
        },
        {
         "name": "Graduate",
         "rawType": "float64",
         "type": "float"
        }
       ],
       "conversionMethod": "pd.DataFrame",
       "ref": "c46151de-41f9-4598-aa1f-fcd8367774a3",
       "rows": [
        [
         "Administrative staff",
         "30.0",
         "18.0",
         "52.0"
        ],
        [
         "Armed Forces Officers",
         "76.0",
         "12.0",
         "12.0"
        ],
        [
         "Armed Forces Professions",
         "25.0",
         "50.0",
         "25.0"
        ],
        [
         "Armed Forces Sergeants",
         "0.0",
         "100.0",
         "0.0"
        ],
        [
         "Data, accounting, statistical, financial services, and registry-related operators",
         "0.0",
         "100.0",
         "0.0"
        ],
        [
         "Directors of administrative and commercial services",
         "0.0",
         "0.0",
         "100.0"
        ],
        [
         "Farmers and Skilled Workers in Agriculture, Fisheries, and Forestry",
         "29.0",
         "15.0",
         "56.0"
        ],
        [
         "Health professionals",
         "25.0",
         "50.0",
         "25.0"
        ],
        [
         "Hotel, catering, trade, and other services directors",
         "0.0",
         "100.0",
         "0.0"
        ],
        [
         "Information and communication technology technicians",
         "0.0",
         "0.0",
         "100.0"
        ],
        [
         "Installation and Machine Operators and Assembly Workers",
         "42.0",
         "19.0",
         "39.0"
        ],
        [
         "Intermediate Level Technicians and Professions",
         "27.0",
         "23.0",
         "50.0"
        ],
        [
         "Intermediate level science and engineering technicians and professions",
         "0.0",
         "33.0",
         "67.0"
        ],
        [
         "Intermediate level technicians from legal, social, sports, cultural, and similar services",
         "0.0",
         "50.0",
         "50.0"
        ],
        [
         "Office workers, secretaries in general, and data processing operators",
         "0.0",
         "0.0",
         "100.0"
        ],
        [
         "Other Armed Forces personnel",
         "29.0",
         "29.0",
         "43.0"
        ],
        [
         "Other Situation; 13—(blank)",
         "73.0",
         "0.0",
         "27.0"
        ],
        [
         "Other administrative support staff",
         "20.0",
         "40.0",
         "40.0"
        ],
        [
         "Personal Services, Security and Safety Workers, and Sellers",
         "29.0",
         "18.0",
         "53.0"
        ],
        [
         "Personal care workers and the like",
         "25.0",
         "0.0",
         "75.0"
        ],
        [
         "Personal service workers",
         "0.0",
         "42.0",
         "58.0"
        ],
        [
         "Protection and security services personnel",
         "9.0",
         "64.0",
         "27.0"
        ],
        [
         "Representatives of the Legislative Power and Executive Bodies, Directors, Directors and Executive Managers",
         "38.0",
         "15.0",
         "47.0"
        ],
        [
         "Sellers",
         "0.0",
         "60.0",
         "40.0"
        ],
        [
         "Skilled Workers in Industry, Construction, and Craftsmen",
         "29.0",
         "18.0",
         "53.0"
        ],
        [
         "Specialists in Intellectual and Scientific Activities",
         "32.0",
         "25.0",
         "43.0"
        ],
        [
         "Specialists in finance, accounting, administrative organization, and public and commercial relations",
         "0.0",
         "67.0",
         "33.0"
        ],
        [
         "Specialists in the physical sciences, mathematics, engineering, and related techniques",
         "0.0",
         "67.0",
         "33.0"
        ],
        [
         "Student",
         "69.0",
         "1.0",
         "31.0"
        ],
        [
         "Teachers",
         "0.0",
         "50.0",
         "50.0"
        ],
        [
         "Technicians and professionals of intermediate level of health",
         "0.0",
         "33.0",
         "67.0"
        ],
        [
         "Unskilled Workers",
         "31.0",
         "17.0",
         "52.0"
        ]
       ],
       "shape": {
        "columns": 3,
        "rows": 32
       }
      },
      "text/html": [
       "<div>\n",
       "<style scoped>\n",
       "    .dataframe tbody tr th:only-of-type {\n",
       "        vertical-align: middle;\n",
       "    }\n",
       "\n",
       "    .dataframe tbody tr th {\n",
       "        vertical-align: top;\n",
       "    }\n",
       "\n",
       "    .dataframe thead th {\n",
       "        text-align: right;\n",
       "    }\n",
       "</style>\n",
       "<table border=\"1\" class=\"dataframe\">\n",
       "  <thead>\n",
       "    <tr style=\"text-align: right;\">\n",
       "      <th>target</th>\n",
       "      <th>Dropout</th>\n",
       "      <th>Enrolled</th>\n",
       "      <th>Graduate</th>\n",
       "    </tr>\n",
       "    <tr>\n",
       "      <th>mother's_occupation</th>\n",
       "      <th></th>\n",
       "      <th></th>\n",
       "      <th></th>\n",
       "    </tr>\n",
       "  </thead>\n",
       "  <tbody>\n",
       "    <tr>\n",
       "      <th>Administrative staff</th>\n",
       "      <td>30.0</td>\n",
       "      <td>18.0</td>\n",
       "      <td>52.0</td>\n",
       "    </tr>\n",
       "    <tr>\n",
       "      <th>Armed Forces Officers</th>\n",
       "      <td>76.0</td>\n",
       "      <td>12.0</td>\n",
       "      <td>12.0</td>\n",
       "    </tr>\n",
       "    <tr>\n",
       "      <th>Armed Forces Professions</th>\n",
       "      <td>25.0</td>\n",
       "      <td>50.0</td>\n",
       "      <td>25.0</td>\n",
       "    </tr>\n",
       "    <tr>\n",
       "      <th>Armed Forces Sergeants</th>\n",
       "      <td>0.0</td>\n",
       "      <td>100.0</td>\n",
       "      <td>0.0</td>\n",
       "    </tr>\n",
       "    <tr>\n",
       "      <th>Data, accounting, statistical, financial services, and registry-related operators</th>\n",
       "      <td>0.0</td>\n",
       "      <td>100.0</td>\n",
       "      <td>0.0</td>\n",
       "    </tr>\n",
       "    <tr>\n",
       "      <th>Directors of administrative and commercial services</th>\n",
       "      <td>0.0</td>\n",
       "      <td>0.0</td>\n",
       "      <td>100.0</td>\n",
       "    </tr>\n",
       "    <tr>\n",
       "      <th>Farmers and Skilled Workers in Agriculture, Fisheries, and Forestry</th>\n",
       "      <td>29.0</td>\n",
       "      <td>15.0</td>\n",
       "      <td>56.0</td>\n",
       "    </tr>\n",
       "    <tr>\n",
       "      <th>Health professionals</th>\n",
       "      <td>25.0</td>\n",
       "      <td>50.0</td>\n",
       "      <td>25.0</td>\n",
       "    </tr>\n",
       "    <tr>\n",
       "      <th>Hotel, catering, trade, and other services directors</th>\n",
       "      <td>0.0</td>\n",
       "      <td>100.0</td>\n",
       "      <td>0.0</td>\n",
       "    </tr>\n",
       "    <tr>\n",
       "      <th>Information and communication technology technicians</th>\n",
       "      <td>0.0</td>\n",
       "      <td>0.0</td>\n",
       "      <td>100.0</td>\n",
       "    </tr>\n",
       "    <tr>\n",
       "      <th>Installation and Machine Operators and Assembly Workers</th>\n",
       "      <td>42.0</td>\n",
       "      <td>19.0</td>\n",
       "      <td>39.0</td>\n",
       "    </tr>\n",
       "    <tr>\n",
       "      <th>Intermediate Level Technicians and Professions</th>\n",
       "      <td>27.0</td>\n",
       "      <td>23.0</td>\n",
       "      <td>50.0</td>\n",
       "    </tr>\n",
       "    <tr>\n",
       "      <th>Intermediate level science and engineering technicians and professions</th>\n",
       "      <td>0.0</td>\n",
       "      <td>33.0</td>\n",
       "      <td>67.0</td>\n",
       "    </tr>\n",
       "    <tr>\n",
       "      <th>Intermediate level technicians from legal, social, sports, cultural, and similar services</th>\n",
       "      <td>0.0</td>\n",
       "      <td>50.0</td>\n",
       "      <td>50.0</td>\n",
       "    </tr>\n",
       "    <tr>\n",
       "      <th>Office workers, secretaries in general, and data processing operators</th>\n",
       "      <td>0.0</td>\n",
       "      <td>0.0</td>\n",
       "      <td>100.0</td>\n",
       "    </tr>\n",
       "    <tr>\n",
       "      <th>Other Armed Forces personnel</th>\n",
       "      <td>29.0</td>\n",
       "      <td>29.0</td>\n",
       "      <td>43.0</td>\n",
       "    </tr>\n",
       "    <tr>\n",
       "      <th>Other Situation; 13—(blank)</th>\n",
       "      <td>73.0</td>\n",
       "      <td>0.0</td>\n",
       "      <td>27.0</td>\n",
       "    </tr>\n",
       "    <tr>\n",
       "      <th>Other administrative support staff</th>\n",
       "      <td>20.0</td>\n",
       "      <td>40.0</td>\n",
       "      <td>40.0</td>\n",
       "    </tr>\n",
       "    <tr>\n",
       "      <th>Personal Services, Security and Safety Workers, and Sellers</th>\n",
       "      <td>29.0</td>\n",
       "      <td>18.0</td>\n",
       "      <td>53.0</td>\n",
       "    </tr>\n",
       "    <tr>\n",
       "      <th>Personal care workers and the like</th>\n",
       "      <td>25.0</td>\n",
       "      <td>0.0</td>\n",
       "      <td>75.0</td>\n",
       "    </tr>\n",
       "    <tr>\n",
       "      <th>Personal service workers</th>\n",
       "      <td>0.0</td>\n",
       "      <td>42.0</td>\n",
       "      <td>58.0</td>\n",
       "    </tr>\n",
       "    <tr>\n",
       "      <th>Protection and security services personnel</th>\n",
       "      <td>9.0</td>\n",
       "      <td>64.0</td>\n",
       "      <td>27.0</td>\n",
       "    </tr>\n",
       "    <tr>\n",
       "      <th>Representatives of the Legislative Power and Executive Bodies, Directors, Directors and Executive Managers</th>\n",
       "      <td>38.0</td>\n",
       "      <td>15.0</td>\n",
       "      <td>47.0</td>\n",
       "    </tr>\n",
       "    <tr>\n",
       "      <th>Sellers</th>\n",
       "      <td>0.0</td>\n",
       "      <td>60.0</td>\n",
       "      <td>40.0</td>\n",
       "    </tr>\n",
       "    <tr>\n",
       "      <th>Skilled Workers in Industry, Construction, and Craftsmen</th>\n",
       "      <td>29.0</td>\n",
       "      <td>18.0</td>\n",
       "      <td>53.0</td>\n",
       "    </tr>\n",
       "    <tr>\n",
       "      <th>Specialists in Intellectual and Scientific Activities</th>\n",
       "      <td>32.0</td>\n",
       "      <td>25.0</td>\n",
       "      <td>43.0</td>\n",
       "    </tr>\n",
       "    <tr>\n",
       "      <th>Specialists in finance, accounting, administrative organization, and public and commercial relations</th>\n",
       "      <td>0.0</td>\n",
       "      <td>67.0</td>\n",
       "      <td>33.0</td>\n",
       "    </tr>\n",
       "    <tr>\n",
       "      <th>Specialists in the physical sciences, mathematics, engineering, and related techniques</th>\n",
       "      <td>0.0</td>\n",
       "      <td>67.0</td>\n",
       "      <td>33.0</td>\n",
       "    </tr>\n",
       "    <tr>\n",
       "      <th>Student</th>\n",
       "      <td>69.0</td>\n",
       "      <td>1.0</td>\n",
       "      <td>31.0</td>\n",
       "    </tr>\n",
       "    <tr>\n",
       "      <th>Teachers</th>\n",
       "      <td>0.0</td>\n",
       "      <td>50.0</td>\n",
       "      <td>50.0</td>\n",
       "    </tr>\n",
       "    <tr>\n",
       "      <th>Technicians and professionals of intermediate level of health</th>\n",
       "      <td>0.0</td>\n",
       "      <td>33.0</td>\n",
       "      <td>67.0</td>\n",
       "    </tr>\n",
       "    <tr>\n",
       "      <th>Unskilled Workers</th>\n",
       "      <td>31.0</td>\n",
       "      <td>17.0</td>\n",
       "      <td>52.0</td>\n",
       "    </tr>\n",
       "  </tbody>\n",
       "</table>\n",
       "</div>"
      ],
      "text/plain": [
       "target                                              Dropout  Enrolled  \\\n",
       "mother's_occupation                                                     \n",
       "Administrative staff                                   30.0      18.0   \n",
       "Armed Forces Officers                                  76.0      12.0   \n",
       "Armed Forces Professions                               25.0      50.0   \n",
       "Armed Forces Sergeants                                  0.0     100.0   \n",
       "Data, accounting, statistical, financial servic...      0.0     100.0   \n",
       "Directors of administrative and commercial serv...      0.0       0.0   \n",
       "Farmers and Skilled Workers in Agriculture, Fis...     29.0      15.0   \n",
       "Health professionals                                   25.0      50.0   \n",
       "Hotel, catering, trade, and other services dire...      0.0     100.0   \n",
       "Information and communication technology techni...      0.0       0.0   \n",
       "Installation and Machine Operators and Assembly...     42.0      19.0   \n",
       "Intermediate Level Technicians and Professions         27.0      23.0   \n",
       "Intermediate level science and engineering tech...      0.0      33.0   \n",
       "Intermediate level technicians from legal, soci...      0.0      50.0   \n",
       "Office workers, secretaries in general, and dat...      0.0       0.0   \n",
       "Other Armed Forces personnel                           29.0      29.0   \n",
       "Other Situation; 13—(blank)                            73.0       0.0   \n",
       "Other administrative support staff                     20.0      40.0   \n",
       "Personal Services, Security and Safety Workers,...     29.0      18.0   \n",
       "Personal care workers and the like                     25.0       0.0   \n",
       "Personal service workers                                0.0      42.0   \n",
       "Protection and security services personnel              9.0      64.0   \n",
       "Representatives of the Legislative Power and Ex...     38.0      15.0   \n",
       "Sellers                                                 0.0      60.0   \n",
       "Skilled Workers in Industry, Construction, and ...     29.0      18.0   \n",
       "Specialists in Intellectual and Scientific Acti...     32.0      25.0   \n",
       "Specialists in finance, accounting, administrat...      0.0      67.0   \n",
       "Specialists in the physical sciences, mathemati...      0.0      67.0   \n",
       "Student                                                69.0       1.0   \n",
       "Teachers                                                0.0      50.0   \n",
       "Technicians and professionals of intermediate l...      0.0      33.0   \n",
       "Unskilled Workers                                      31.0      17.0   \n",
       "\n",
       "target                                              Graduate  \n",
       "mother's_occupation                                           \n",
       "Administrative staff                                    52.0  \n",
       "Armed Forces Officers                                   12.0  \n",
       "Armed Forces Professions                                25.0  \n",
       "Armed Forces Sergeants                                   0.0  \n",
       "Data, accounting, statistical, financial servic...       0.0  \n",
       "Directors of administrative and commercial serv...     100.0  \n",
       "Farmers and Skilled Workers in Agriculture, Fis...      56.0  \n",
       "Health professionals                                    25.0  \n",
       "Hotel, catering, trade, and other services dire...       0.0  \n",
       "Information and communication technology techni...     100.0  \n",
       "Installation and Machine Operators and Assembly...      39.0  \n",
       "Intermediate Level Technicians and Professions          50.0  \n",
       "Intermediate level science and engineering tech...      67.0  \n",
       "Intermediate level technicians from legal, soci...      50.0  \n",
       "Office workers, secretaries in general, and dat...     100.0  \n",
       "Other Armed Forces personnel                            43.0  \n",
       "Other Situation; 13—(blank)                             27.0  \n",
       "Other administrative support staff                      40.0  \n",
       "Personal Services, Security and Safety Workers,...      53.0  \n",
       "Personal care workers and the like                      75.0  \n",
       "Personal service workers                                58.0  \n",
       "Protection and security services personnel              27.0  \n",
       "Representatives of the Legislative Power and Ex...      47.0  \n",
       "Sellers                                                 40.0  \n",
       "Skilled Workers in Industry, Construction, and ...      53.0  \n",
       "Specialists in Intellectual and Scientific Acti...      43.0  \n",
       "Specialists in finance, accounting, administrat...      33.0  \n",
       "Specialists in the physical sciences, mathemati...      33.0  \n",
       "Student                                                 31.0  \n",
       "Teachers                                                50.0  \n",
       "Technicians and professionals of intermediate l...      67.0  \n",
       "Unskilled Workers                                       52.0  "
      ]
     },
     "execution_count": 32,
     "metadata": {},
     "output_type": "execute_result"
    }
   ],
   "source": [
    "# Uso de tablas cruzadas para ver si hay alguna relación entre la ocupación de los padres y el target en porcentaje\n",
    "(pd.crosstab(df_students[\"mother's_occupation\"], df_students[\"target\"], normalize='index') * 100).round(0)\n"
   ]
  },
  {
   "cell_type": "markdown",
   "metadata": {},
   "source": [
    "# <span style=\"color:#f6f794\"> Guardar dataset </span>"
   ]
  },
  {
   "cell_type": "code",
   "execution_count": 33,
   "metadata": {},
   "outputs": [
    {
     "name": "stdout",
     "output_type": "stream",
     "text": [
      "File succesfully saved.\n",
      " File size: 1573.12 KB\n"
     ]
    }
   ],
   "source": [
    "df_students.to_csv(trying_model, index=False)\n",
    "\n",
    "if os.path.exists(trying_model):\n",
    "    print(\"File succesfully saved.\")\n",
    "    print(f\" File size: {os.path.getsize(trying_model) / 1024:.2f} KB\")\n",
    "else:\n",
    "    print(\"⚠️ Error while saving file.\")"
   ]
  }
 ],
 "metadata": {
  "kernelspec": {
   "display_name": ".venv",
   "language": "python",
   "name": "python3"
  },
  "language_info": {
   "codemirror_mode": {
    "name": "ipython",
    "version": 3
   },
   "file_extension": ".py",
   "mimetype": "text/x-python",
   "name": "python",
   "nbconvert_exporter": "python",
   "pygments_lexer": "ipython3",
   "version": "3.13.2"
  }
 },
 "nbformat": 4,
 "nbformat_minor": 2
}
