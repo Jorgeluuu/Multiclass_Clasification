{
 "cells": [
  {
   "cell_type": "markdown",
   "metadata": {},
   "source": [
    "# <span style=\"color:#f6f794\"> Importing libraries </span>\n"
   ]
  },
  {
   "cell_type": "code",
   "execution_count": null,
   "metadata": {},
   "outputs": [],
   "source": [
    "import pandas as pd\n",
    "import os\n",
    "import re\n",
    "import seaborn as sns\n",
    "import matplotlib.pyplot as plt\n",
    "from sklearn.ensemble import RandomForestClassifier\n",
    "from sklearn.preprocessing import LabelEncoder\n",
    "from sklearn.model_selection import train_test_split\n",
    "from category_encoders import TargetEncoder"
   ]
  },
  {
   "cell_type": "markdown",
   "metadata": {},
   "source": [
    "# <span style=\"color:#f6f794\"> Setting paths and opening file </span>"
   ]
  },
  {
   "cell_type": "code",
   "execution_count": null,
   "metadata": {},
   "outputs": [],
   "source": [
    "current_dir = os.getcwd()\n",
    "parent_dir = os.path.dirname(current_dir)\n",
    "data_dir = os.path.join(parent_dir, \"data\")\n",
    "file_path = os.path.join(data_dir, \"\")\n",
    "trying_model = os.path.join(data_dir, \"for_trying_model.csv\")\n",
    "raw_data_csv_path = os.path.join(data_dir, \"raw_data.csv\")\n",
    "\n",
    "df_students = pd.read_csv(raw_data_csv_path)"
   ]
  },
  {
   "cell_type": "markdown",
   "metadata": {},
   "source": [
    "# <span style=\"color:#f6f794\"> Start checking the dataset </span>"
   ]
  },
  {
   "cell_type": "code",
   "execution_count": null,
   "metadata": {},
   "outputs": [],
   "source": [
    "df_students.columns"
   ]
  },
  {
   "cell_type": "markdown",
   "metadata": {},
   "source": [
    "### <span style=\"color:#f6f794\"> Changing column's names </span>"
   ]
  },
  {
   "cell_type": "code",
   "execution_count": null,
   "metadata": {},
   "outputs": [],
   "source": [
    "# Modify columns with 'CamelCase' to 'snake_case'\n",
    "df_students.columns = [re.sub(r'(?<!^)(?=[A-Z][a-z])', '_', col).lower() for col in df_students.columns]\n",
    "# Replace spaces with underscores\n",
    "df_students.columns = df_students.columns.str.replace(' ', '_')\n",
    "# Changing nacionality for nationality\n",
    "df_students.rename(columns={'nacionality': 'nationality'}, inplace=True)\n",
    "df_students.rename(columns={'daytime/evening_attendance': 'attendance'}, inplace=True)"
   ]
  },
  {
   "cell_type": "markdown",
   "metadata": {},
   "source": [
    "### <span style=\"color:#f6f794\"> Checking dataset </span>"
   ]
  },
  {
   "cell_type": "code",
   "execution_count": null,
   "metadata": {},
   "outputs": [],
   "source": [
    "df_students.describe()"
   ]
  },
  {
   "cell_type": "markdown",
   "metadata": {},
   "source": [
    "## <span style=\"color:#f6f794\"> Checking and changing categorical values according the information from where the dataset is </span>\n",
    "\n",
    "https://www.kaggle.com/datasets/thedevastator/higher-education-predictors-of-student-retention/data\n",
    "\n",
    "https://github.com/carmelh/SQL_projects/tree/main/student_data_analysis/Datasets\n",
    "\n",
    "| Column name                                | Description                                                                    | Type                                             |\n",
    "|--------------------------------------------|--------------------------------------------------------------------------------|--------------------------------------------------|\n",
    "| Marital status                             | The marital status of the student.                                             | <span style=\"color:#01C3F5\"> Categorical </span> |\n",
    "| Application mode                           | The method of application used by the student.                                 | <span style=\"color:#01C3F5\"> Categorical </span> |\n",
    "| Application order                          | The order in which the student applied.                                        | <span style=\"color:#EF2877\"> Numerical   </span> |\n",
    "| Course                                     | The course taken by the student.                                               | <span style=\"color:#01C3F5\"> Categorical </span> |\n",
    "| Daytime/evening attendance                 | Whether the student attends classes during the day or in the evening.          | <span style=\"color:#01C3F5\"> Categorical </span> |\n",
    "| Previous qualification                     | The qualification obtained by the student before enrolling in higher education.| <span style=\"color:#01C3F5\"> Categorical </span> |\n",
    "| Nacionality                                | The nationality of the student.                                                | <span style=\"color:#01C3F5\"> Categorical </span> |\n",
    "| Mother's qualification                     | The qualification of the student's mother.                                     | <span style=\"color:#01C3F5\"> Categorical </span> |\n",
    "| Father's qualification                     | The qualification of the student's father.                                     | <span style=\"color:#01C3F5\"> Categorical </span> |\n",
    "| Mother's occupation                        | The occupation of the student's mother.                                        | <span style=\"color:#01C3F5\"> Categorical </span> |\n",
    "| Father's occupation                        | The occupation of the student's father.                                        | <span style=\"color:#01C3F5\"> Categorical </span> |\n",
    "| Displaced                                  | Whether the student is a displaced person.                                     | <span style=\"color:#01C3F5\"> Categorical </span> |\n",
    "| Educational special needs                  | Whether the student has any special educational needs.                         | <span style=\"color:#01C3F5\"> Categorical </span> |\n",
    "| Debtor                                     | Whether the student is a debtor.                                               | <span style=\"color:#01C3F5\"> Categorical </span> |\n",
    "| Tuition fees up to date                    | Whether the student's tuition fees are up to date.                             | <span style=\"color:#01C3F5\"> Categorical </span> |\n",
    "| Gender                                     | The gender of the student.                                                     | <span style=\"color:#01C3F5\"> Categorical </span> |\n",
    "| Scholarship holder                         | Whether the student is a scholarship holder.                                   | <span style=\"color:#01C3F5\"> Categorical </span> |\n",
    "| Age at enrollment                          | The age of the student at the time of enrollment.                              | <span style=\"color:#EF2877\"> Numerical   </span> |\n",
    "| International                              | Whether the student is an international student.                               | <span style=\"color:#01C3F5\"> Categorical </span> |\n",
    "| Curricular units 1st sem (credited)        | The number of curricular units credited by the student in the first semester.  | <span style=\"color:#EF2877\"> Numerical   </span> |\n",
    "| Curricular units 1st sem (enrolled)        | The number of curricular units enrolled by the student in the first semester.  | <span style=\"color:#EF2877\"> Numerical   </span> |\n",
    "| Curricular units 1st sem (evaluations)     | The number of curricular units evaluated by the student in the first semester. | <span style=\"color:#EF2877\"> Numerical   </span> |\n",
    "| Curricular units 1st sem (approved)        | The number of curricular units approved by the student in the first semester.  | <span style=\"color:#EF2877\"> Numerical   </span> |\n"
   ]
  },
  {
   "cell_type": "markdown",
   "metadata": {},
   "source": [
    "### Marital status"
   ]
  },
  {
   "cell_type": "code",
   "execution_count": null,
   "metadata": {},
   "outputs": [],
   "source": [
    "df_students[\"marital_status\"].nunique() # 6"
   ]
  },
  {
   "cell_type": "code",
   "execution_count": null,
   "metadata": {},
   "outputs": [],
   "source": [
    "marital_status_map = {\n",
    "    1: 'Single',\n",
    "    2: 'Married',\n",
    "    3: 'Widower',\n",
    "    4: 'Divorced',\n",
    "    5: 'Common-law marriage',\n",
    "    6: 'Legally separated'\n",
    "}\n",
    "df_students[\"marital_status\"] = df_students[\"marital_status\"].map(marital_status_map)"
   ]
  },
  {
   "cell_type": "code",
   "execution_count": null,
   "metadata": {},
   "outputs": [],
   "source": [
    "df_students[\"marital_status\"].value_counts()"
   ]
  },
  {
   "cell_type": "markdown",
   "metadata": {},
   "source": [
    "### Application mode"
   ]
  },
  {
   "cell_type": "code",
   "execution_count": null,
   "metadata": {},
   "outputs": [],
   "source": [
    "df_students[\"application_mode\"].nunique() # 18"
   ]
  },
  {
   "cell_type": "code",
   "execution_count": null,
   "metadata": {},
   "outputs": [],
   "source": [
    "application_mode_map = {\n",
    "    1:\t\"1st phase—general contingent\",\n",
    "    2:\t\"Ordinance No. 612/93\",\n",
    "    3:\t\"1st phase—special contingent (Azores Island)\",\n",
    "    4:\t\"Holders of other higher courses\",\n",
    "    5:\t\"Ordinance No. 854-B/99\",\n",
    "    6:\t\"International student (bachelor)\",\n",
    "    7:\t\"1st phase—special contingent (Madeira Island)\",\n",
    "    8:\t\"2nd phase—general contingent\",\n",
    "    9:\t\"3rd phase—general contingent\",\n",
    "    10:\t\"Ordinance No. 533-A/99, item b2) (Different Plan)\",\n",
    "    11:\t\"Ordinance No. 533-A/99, item b3 (Other Institution)\",\n",
    "    12:\t\"Over 23 years old\",\n",
    "    13:\t\"Transfer\",\n",
    "    14:\t\"Change in course\",\n",
    "    15:\t\"Technological specialization diploma holders\",\n",
    "    16:\t\"Change in institution/course\",\n",
    "    17:\t\"Short cycle diploma holders\",\n",
    "    18:\t\"Change in institution/course (International)\"\n",
    "}\n",
    "\n",
    "df_students[\"application_mode\"] = df_students[\"application_mode\"].map(application_mode_map)\n",
    "df_students[\"application_mode\"].value_counts()"
   ]
  },
  {
   "cell_type": "markdown",
   "metadata": {},
   "source": [
    "### Course"
   ]
  },
  {
   "cell_type": "code",
   "execution_count": null,
   "metadata": {},
   "outputs": [],
   "source": [
    "df_students[\"course\"].nunique() # 17"
   ]
  },
  {
   "cell_type": "code",
   "execution_count": null,
   "metadata": {},
   "outputs": [],
   "source": [
    "course_map = {\n",
    "    1: \"Biofuel Production Technologies\",\n",
    "    2: \"Animation and Multimedia Design\",\n",
    "    3: \"Social Service (evening attendance)\",\n",
    "    4: \"Agronomy\",\n",
    "    5: \"Communication Design\",\n",
    "    6: \"Veterinary Nursing\",\n",
    "    7: \"Informatics Engineering\",\n",
    "    8: \"Equiniculture\",\n",
    "    9: \"Management\",\n",
    "    10: \"Social Service\",\n",
    "    11: \"Tourism\",\n",
    "    12: \"Nursing\",\n",
    "    13: \"Oral Hygiene\",\n",
    "    14: \"Advertising and Marketing Management\",\n",
    "    15: \"Journalism and Communication\",\n",
    "    16: \"Basic Education\",\n",
    "    17: \"Management (evening attendance)\"\n",
    "}\n",
    "df_students[\"course\"] = df_students[\"course\"].map(course_map)\n",
    "df_students[\"course\"].value_counts()"
   ]
  },
  {
   "cell_type": "markdown",
   "metadata": {},
   "source": [
    "### Attendance"
   ]
  },
  {
   "cell_type": "code",
   "execution_count": null,
   "metadata": {},
   "outputs": [],
   "source": [
    "df_students[\"attendance\"].nunique() # 2"
   ]
  },
  {
   "cell_type": "code",
   "execution_count": null,
   "metadata": {},
   "outputs": [],
   "source": [
    "attendance_map = {\n",
    "    0: \"Evening\",\n",
    "    1: \"Daytime\"\n",
    "}\n",
    "df_students[\"attendance\"] = df_students[\"attendance\"].map(attendance_map)\n",
    "df_students[\"attendance\"].value_counts()"
   ]
  },
  {
   "cell_type": "markdown",
   "metadata": {},
   "source": [
    "### Previous qualification "
   ]
  },
  {
   "cell_type": "code",
   "execution_count": null,
   "metadata": {},
   "outputs": [],
   "source": [
    "df_students[\"previous_qualification\"].nunique() # 17"
   ]
  },
  {
   "cell_type": "code",
   "execution_count": null,
   "metadata": {},
   "outputs": [],
   "source": [
    "previous_qualification_map = {\n",
    "    1: \"Secondary education\",\n",
    "    2: \"Higher education—bachelor’s degree\",\n",
    "    3: \"Higher education—degree\",\n",
    "    4: \"Higher education—master’s degree\",\n",
    "    5: \"Higher education—doctorate\",\n",
    "    6: \"Frequency of higher education\",\n",
    "    7: \"12th year of schooling—not completed\",\n",
    "    8: \"11th year of schooling—not completed\",\n",
    "    9: \"Other—11th year of schooling\",\n",
    "    10: \"10th year of schooling\",\n",
    "    11: \"10th year of schooling—not completed\",\n",
    "    12: \"Basic education 3rd cycle (9th/10th/11th year) or equivalent\",\n",
    "    13: \"Basic education 2nd cycle (6th/7th/8th year) or equivalent\",\n",
    "    14: \"Technological specialization course\",\n",
    "    15: \"Higher education—degree (1st cycle)\",\n",
    "    16: \"Professional higher technical course\",\n",
    "    17: \"Higher education—master’s degree (2nd cycle)\"\n",
    "}\n",
    "df_students[\"previous_qualification\"] = df_students[\"previous_qualification\"].map(previous_qualification_map)\n",
    "df_students[\"previous_qualification\"].value_counts()"
   ]
  },
  {
   "cell_type": "markdown",
   "metadata": {},
   "source": [
    "### Nationality  "
   ]
  },
  {
   "cell_type": "code",
   "execution_count": null,
   "metadata": {},
   "outputs": [],
   "source": [
    "df_students[\"nationality\"].nunique() # 21"
   ]
  },
  {
   "cell_type": "code",
   "execution_count": null,
   "metadata": {},
   "outputs": [],
   "source": [
    "nationality_map = {\n",
    "    1: \"Portuguese\",\n",
    "    2: \"German\",\n",
    "    3: \"Spanish\",\n",
    "    4: \"Italian\",\n",
    "    5: \"Dutch\",\n",
    "    6: \"English\",\n",
    "    7: \"Lithuanian\",\n",
    "    8: \"Angolan\",\n",
    "    9: \"Cape Verdean\",\n",
    "    10: \"Guinean\",\n",
    "    11: \"Mozambican\",\n",
    "    12: \"Santomean\",\n",
    "    13: \"Turkish\",\n",
    "    14: \"Brazilian\",\n",
    "    15: \"Romanian\",\n",
    "    16: \"Moldova (Republic of)\",\n",
    "    17: \"Mexican\",\n",
    "    18: \"Ukrainian\",\n",
    "    19: \"Russian\",\n",
    "    20: \"Cuban\",\n",
    "    21: \"Colombian\"\n",
    "}\n",
    "\n",
    "df_students[\"nationality\"] = df_students[\"nationality\"].map(nationality_map)\n",
    "# df_students[\"nationality\"].value_counts()\n"
   ]
  },
  {
   "cell_type": "markdown",
   "metadata": {},
   "source": [
    "### Mother's qualification  &    Father's qualification "
   ]
  },
  {
   "cell_type": "code",
   "execution_count": null,
   "metadata": {},
   "outputs": [],
   "source": [
    "df_students[\"mother's_qualification\"].nunique() # 29\n",
    "df_students[\"father's_qualification\"].nunique() # 34"
   ]
  },
  {
   "cell_type": "code",
   "execution_count": null,
   "metadata": {},
   "outputs": [],
   "source": [
    "parents_qualification_map = {\n",
    "    1: \"Secondary education—12th year of schooling or equivalent\",\n",
    "    2: \"Higher education—bachelor’s degree\",\n",
    "    3: \"Higher education—degree\",\n",
    "    4: \"Higher education—master’s degree\",\n",
    "    5: \"Higher education—doctorate\",\n",
    "    6: \"Frequency of higher education\",\n",
    "    7: \"12th year of schooling—not completed\",\n",
    "    8: \"11th year of schooling—not completed\",\n",
    "    9: \"7th year (old)\",\n",
    "    10: \"Other—11th year of schooling\",\n",
    "    11: \"2nd year complementary high school course\",\n",
    "    12: \"10th year of schooling\",\n",
    "    13: \"General commerce course\",\n",
    "    14: \"Basic education 3rd cycle (9th/10th/11th year) or equivalent\",\n",
    "    15: \"Complementary high school course\",\n",
    "    16: \"Technical-professional course\",\n",
    "    17: \"Complementary high school course—not concluded\",\n",
    "    18: \"7th year of schooling\",\n",
    "    19: \"2nd cycle of the general high school course\",\n",
    "    20: \"9th year of schooling—not completed\",\n",
    "    21: \"8th year of schooling\",\n",
    "    22: \"General course of administration and commerce\",\n",
    "    23: \"Supplementary accounting and administration\",\n",
    "    24: \"Unknown\",\n",
    "    25: \"Cannot read or write\",\n",
    "    26: \"Can read without having a 4th year of schooling\",\n",
    "    27: \"Basic education 1st cycle (4th/5th year) or equivalent\",\n",
    "    28: \"Basic education 2nd cycle (6th/7th/8th year) or equivalent\",\n",
    "    29: \"Technological specialization course\",\n",
    "    30: \"Higher education—degree (1st cycle)\",\n",
    "    31: \"Specialized higher studies course\",\n",
    "    32: \"Professional higher technical course\",\n",
    "    33: \"Higher education—master’s degree (2nd cycle)\",\n",
    "    34: \"Higher education—doctorate (3rd cycle)\"\n",
    "}\n",
    "df_students[\"mother's_qualification\"] = df_students[\"mother's_qualification\"].map(parents_qualification_map)\n",
    "df_students[\"father's_qualification\"] = df_students[\"father's_qualification\"].map(parents_qualification_map)\n",
    "# df_students[\"mother's_qualification\"].value_counts()\n",
    "# df_students[\"father's_qualification\"].value_counts()"
   ]
  },
  {
   "cell_type": "markdown",
   "metadata": {},
   "source": [
    "### Mother's occupation   &  Father's occupation "
   ]
  },
  {
   "cell_type": "code",
   "execution_count": null,
   "metadata": {},
   "outputs": [],
   "source": [
    "df_students[\"mother's_occupation\"].nunique() # 32\n",
    "df_students[\"father's_occupation\"].nunique() # 46"
   ]
  },
  {
   "cell_type": "code",
   "execution_count": null,
   "metadata": {},
   "outputs": [],
   "source": [
    "parents_occupation_map = {\n",
    "    1: \"Student\",\n",
    "    2: \"Representatives of the Legislative Power and Executive Bodies, Directors, Directors and Executive Managers\",\n",
    "    3: \"Specialists in Intellectual and Scientific Activities\",\n",
    "    4: \"Intermediate Level Technicians and Professions\",\n",
    "    5: \"Administrative staff\",\n",
    "    6: \"Personal Services, Security and Safety Workers, and Sellers\",\n",
    "    7: \"Farmers and Skilled Workers in Agriculture, Fisheries, and Forestry\",\n",
    "    8: \"Skilled Workers in Industry, Construction, and Craftsmen\",\n",
    "    9: \"Installation and Machine Operators and Assembly Workers\",\n",
    "    10: \"Unskilled Workers\",\n",
    "    11: \"Armed Forces Professions\",\n",
    "    12: \"Other Situation; 13—(blank)\",\n",
    "    13: \"Armed Forces Officers\",\n",
    "    14: \"Armed Forces Sergeants\",\n",
    "    15: \"Other Armed Forces personnel\",\n",
    "    16: \"Directors of administrative and commercial services\",\n",
    "    17: \"Hotel, catering, trade, and other services directors\",\n",
    "    18: \"Specialists in the physical sciences, mathematics, engineering, and related techniques\",\n",
    "    19: \"Health professionals\",\n",
    "    20: \"Teachers\",\n",
    "    21: \"Specialists in finance, accounting, administrative organization, and public and commercial relations\",\n",
    "    22: \"Intermediate level science and engineering technicians and professions\",\n",
    "    23: \"Technicians and professionals of intermediate level of health\",\n",
    "    24: \"Intermediate level technicians from legal, social, sports, cultural, and similar services\",\n",
    "    25: \"Information and communication technology technicians\",\n",
    "    26: \"Office workers, secretaries in general, and data processing operators\",\n",
    "    27: \"Data, accounting, statistical, financial services, and registry-related operators\",\n",
    "    28: \"Other administrative support staff\",\n",
    "    29: \"Personal service workers\",\n",
    "    30: \"Sellers\",\n",
    "    31: \"Personal care workers and the like\",\n",
    "    32: \"Protection and security services personnel\",\n",
    "    33: \"Market-oriented farmers and skilled agricultural and animal production workers\",\n",
    "    34: \"Farmers, livestock keepers, fishermen, hunters and gatherers, and subsistence\",\n",
    "    35: \"Skilled construction workers and the like, except electricians\",\n",
    "    36: \"Skilled workers in metallurgy, metalworking, and similar\",\n",
    "    37: \"Skilled workers in electricity and electronics\",\n",
    "    38: \"Workers in food processing, woodworking, and clothing and other industries and crafts\",\n",
    "    39: \"Fixed plant and machine operators\",\n",
    "    40: \"Assembly workers\",\n",
    "    41: \"Vehicle drivers and mobile equipment operators\",\n",
    "    42: \"Unskilled workers in agriculture, animal production, and fisheries and forestry\",\n",
    "    43: \"Unskilled workers in extractive industry, construction, manufacturing, and transport\",\n",
    "    44: \"Meal preparation assistants\",\n",
    "    45: \"Street vendors (except food) and street service providers\",\n",
    "    46: \"Other occupations\"\n",
    "}\n",
    "\n",
    "df_students[\"mother's_occupation\"] = df_students[\"mother's_occupation\"].map(parents_occupation_map)\n",
    "df_students[\"father's_occupation\"] = df_students[\"father's_occupation\"].map(parents_occupation_map)\n",
    "# df_students[\"mother's_occupation\"].value_counts()\n",
    "# df_students[\"father's_occupation\"].value_counts()"
   ]
  },
  {
   "cell_type": "markdown",
   "metadata": {},
   "source": [
    "### Displaced"
   ]
  },
  {
   "cell_type": "code",
   "execution_count": null,
   "metadata": {},
   "outputs": [],
   "source": [
    "df_students[\"displaced\"].nunique() # 2\n",
    "df_students[\"displaced\"].value_counts()\n",
    "\n",
    "displaced_map = {\n",
    "    0: \"No\",\n",
    "    1: \"Yes\"\n",
    "}\n",
    "\n",
    "df_students[\"displaced\"] = df_students[\"displaced\"].map(displaced_map)"
   ]
  },
  {
   "cell_type": "markdown",
   "metadata": {},
   "source": [
    "### Educational special needs      "
   ]
  },
  {
   "cell_type": "code",
   "execution_count": null,
   "metadata": {},
   "outputs": [],
   "source": [
    "df_students[\"educational_special_needs\"].nunique() # 2\n",
    "df_students[\"educational_special_needs\"].value_counts()\n",
    "\n",
    "educational_special_needs_map = {\n",
    "    0: \"No\",\n",
    "    1: \"Yes\"\n",
    "}\n",
    "df_students[\"educational_special_needs\"] = df_students[\"educational_special_needs\"].map(educational_special_needs_map)"
   ]
  },
  {
   "cell_type": "markdown",
   "metadata": {},
   "source": [
    "### Debtor "
   ]
  },
  {
   "cell_type": "code",
   "execution_count": null,
   "metadata": {},
   "outputs": [],
   "source": [
    "df_students[\"debtor\"].nunique() # 2\n",
    "df_students[\"debtor\"].value_counts()\n",
    "\n",
    "debtor_map = {\n",
    "    0: \"No\",\n",
    "    1: \"Yes\"\n",
    "} \n",
    "df_students[\"debtor\"] = df_students[\"debtor\"].map(debtor_map)"
   ]
  },
  {
   "cell_type": "markdown",
   "metadata": {},
   "source": [
    "### Tuition fees up to date "
   ]
  },
  {
   "cell_type": "code",
   "execution_count": null,
   "metadata": {},
   "outputs": [],
   "source": [
    "df_students[\"tuition_fees_up_to_date\"].nunique() # 2\n",
    "df_students[\"tuition_fees_up_to_date\"].value_counts()\n",
    "\n",
    "tuition_fees_up_to_date_map = {\n",
    "    0: \"No\",\n",
    "    1: \"Yes\"\n",
    "}\n",
    "df_students[\"tuition_fees_up_to_date\"] = df_students[\"tuition_fees_up_to_date\"].map(tuition_fees_up_to_date_map)"
   ]
  },
  {
   "cell_type": "markdown",
   "metadata": {},
   "source": [
    "### Gender"
   ]
  },
  {
   "cell_type": "code",
   "execution_count": null,
   "metadata": {},
   "outputs": [],
   "source": [
    "df_students[\"gender\"].nunique() # 2"
   ]
  },
  {
   "cell_type": "code",
   "execution_count": null,
   "metadata": {},
   "outputs": [],
   "source": [
    "gender_map = {\n",
    "    0: \"Female\",\n",
    "    1: \"Male\"\n",
    "}\n",
    "\n",
    "df_students[\"gender\"] = df_students[\"gender\"].map(gender_map)\n",
    "df_students[\"gender\"].value_counts()"
   ]
  },
  {
   "cell_type": "markdown",
   "metadata": {},
   "source": [
    "### Scholarship holder    "
   ]
  },
  {
   "cell_type": "code",
   "execution_count": null,
   "metadata": {},
   "outputs": [],
   "source": [
    "df_students[\"scholarship_holder\"].nunique() # 2\n",
    "df_students[\"scholarship_holder\"].value_counts()\n",
    "\n",
    "scholarship_holder_map = {\n",
    "    0: \"No\",\n",
    "    1: \"Yes\"\n",
    "}\n",
    "df_students[\"scholarship_holder\"] = df_students[\"scholarship_holder\"].map(scholarship_holder_map)"
   ]
  },
  {
   "cell_type": "markdown",
   "metadata": {},
   "source": [
    "## <span style=\"color:#f6f794\">  Revisión de la cardinalidad </span>\n",
    "\n",
    "Revisar la cantidad de valores únicos de las columnas categóricas para evaluar y se ha de usar one-hot encoding o no."
   ]
  },
  {
   "cell_type": "code",
   "execution_count": null,
   "metadata": {},
   "outputs": [],
   "source": [
    "for col in df_students.columns:\n",
    "    if df_students[col].dtype == 'object' or df_students[col].dtype.name == 'category':\n",
    "        print(f\"{col}: {df_students[col].nunique()}\")\n"
   ]
  },
  {
   "cell_type": "markdown",
   "metadata": {},
   "source": [
    "## <span style=\"color:#f6f794\">  Revisión de las variables importantes </span>"
   ]
  },
  {
   "cell_type": "code",
   "execution_count": null,
   "metadata": {},
   "outputs": [],
   "source": [
    "# Ver el top 10 de las ocupaciones de los padres\n",
    "df_students[\"father's_occupation\"].value_counts(normalize=True).head(10).plot(kind='bar', title=\"Top 10 - Father's Occupation\")\n",
    "df_students[\"mother's_occupation\"].value_counts(normalize=True).head(10).plot(kind='bar', title=\"Top 10 - Mother's Occupation\")\n",
    "\n"
   ]
  },
  {
   "cell_type": "markdown",
   "metadata": {},
   "source": [
    "### Ver la relación entre categorías de una columna con la columna target"
   ]
  },
  {
   "cell_type": "code",
   "execution_count": null,
   "metadata": {},
   "outputs": [],
   "source": [
    "# Uso de tablas cruzadas para ver si hay alguna relación entre la ocupación de los padres y el target en porcentaje\n",
    "(pd.crosstab(df_students[\"mother's_occupation\"], df_students[\"target\"], normalize='index') * 100).round(0)\n"
   ]
  },
  {
   "cell_type": "markdown",
   "metadata": {},
   "source": [
    "# <span style=\"color:#f6f794\"> Guardar dataset </span>"
   ]
  },
  {
   "cell_type": "code",
   "execution_count": null,
   "metadata": {},
   "outputs": [],
   "source": [
    "df_students.to_csv(trying_model, index=False)\n",
    "\n",
    "if os.path.exists(trying_model):\n",
    "    print(\"File succesfully saved.\")\n",
    "    print(f\" File size: {os.path.getsize(trying_model) / 1024:.2f} KB\")\n",
    "else:\n",
    "    print(\"⚠️ Error while saving file.\")"
   ]
  },
  {
   "cell_type": "code",
   "execution_count": 13,
   "metadata": {},
   "outputs": [
    {
     "name": "stdout",
     "output_type": "stream",
     "text": [
      "c:\\Users\\yaelp\\Desktop\\Yael\\Bootcamp_FactoriaF5_IA_Promo4\\Proyectos\\Grupales\\Multiclass_Clasification\\server\\models\n",
      "c:\\Users\\yaelp\\Desktop\\Yael\\Bootcamp_FactoriaF5_IA_Promo4\\Proyectos\\Grupales\\Multiclass_Clasification\\server\n",
      "c:\\Users\\yaelp\\Desktop\\Yael\\Bootcamp_FactoriaF5_IA_Promo4\\Proyectos\\Grupales\\Multiclass_Clasification\n",
      "c:\\Users\\yaelp\\Desktop\\Yael\\Bootcamp_FactoriaF5_IA_Promo4\\Proyectos\\Grupales\\Multiclass_Clasification\\data\n",
      "c:\\Users\\yaelp\\Desktop\\Yael\\Bootcamp_FactoriaF5_IA_Promo4\\Proyectos\\Grupales\\Multiclass_Clasification\\data\\raw_data.csv\n",
      "c:\\Users\\yaelp\\Desktop\\Yael\\Bootcamp_FactoriaF5_IA_Promo4\\Proyectos\\Grupales\\Multiclass_Clasification\\data\\dataset_procesado.csv\n",
      "c:\\Users\\yaelp\\Desktop\\Yael\\Bootcamp_FactoriaF5_IA_Promo4\\Proyectos\\Grupales\\Multiclass_Clasification\\server\\data\n",
      "c:\\Users\\yaelp\\Desktop\\Yael\\Bootcamp_FactoriaF5_IA_Promo4\\Proyectos\\Grupales\\Multiclass_Clasification\\server\\models\\xgboost_multiclass_pipeline.pkl\n",
      "c:\\Users\\yaelp\\Desktop\\Yael\\Bootcamp_FactoriaF5_IA_Promo4\\Proyectos\\Grupales\\Multiclass_Clasification\\server\\models\\xgboost_multiclass_model.pkl\n"
     ]
    }
   ],
   "source": [
    "import os\n",
    "current_dir = os.getcwd() # \\Multiclass_Clasification\\server\\models\n",
    "print(current_dir)\n",
    "server_path = os.path.dirname(current_dir)   # \\Multiclass_Clasification\\server\n",
    "print(server_path)\n",
    "project_root = os.path.dirname(server_path)   # \\Multiclass_Clasification\n",
    "print(project_root)\n",
    "data_root_path = os.path.join(project_root, \"data\")  #  \\Multiclass_Clasification\\data\n",
    "print(data_root_path)\n",
    "raw_data_path = os.path.join(data_root_path, \"raw_data.csv\")  # \\Multiclass_Clasification\\data\\raw_data.csv\n",
    "print(raw_data_path)\n",
    "process_data_path = os.path.join(data_root_path, \"dataset_procesado.csv\") #  \\Multiclass_Clasification\\data\\dataset_procesado.csv\n",
    "print(process_data_path)\n",
    "data_server_path = os.path.join(server_path, \"data\")  # \\Multiclass_Clasification\\server\\data\n",
    "print(data_server_path)\n",
    "pipeline_pkl_path = os.path.join(current_dir, \"xgboost_multiclass_pipeline.pkl\")  # \\Multiclass_Clasification\\server\\models\\xgboost_multiclass_pipeline.pkl\n",
    "print(pipeline_pkl_path)\n",
    "model_pkl_path = os.path.join(current_dir, \"xgboost_multiclass_model.pkl\")  # \\Multiclass_Clasification\\server\\models\\xgboost_multiclass_model.pkl\n",
    "print(model_pkl_path)"
   ]
  }
 ],
 "metadata": {
  "kernelspec": {
   "display_name": ".venv",
   "language": "python",
   "name": "python3"
  },
  "language_info": {
   "codemirror_mode": {
    "name": "ipython",
    "version": 3
   },
   "file_extension": ".py",
   "mimetype": "text/x-python",
   "name": "python",
   "nbconvert_exporter": "python",
   "pygments_lexer": "ipython3",
   "version": "3.13.2"
  }
 },
 "nbformat": 4,
 "nbformat_minor": 2
}
